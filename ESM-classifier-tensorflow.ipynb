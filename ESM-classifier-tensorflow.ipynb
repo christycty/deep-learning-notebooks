{
 "cells": [
  {
   "cell_type": "code",
   "execution_count": 1,
   "id": "6527d9d7",
   "metadata": {
    "_cell_guid": "b1076dfc-b9ad-4769-8c92-a6c4dae69d19",
    "_uuid": "8f2839f25d086af736a60e9eeb907d3b93b6e0e5",
    "execution": {
     "iopub.execute_input": "2023-03-19T11:57:34.069443Z",
     "iopub.status.busy": "2023-03-19T11:57:34.068295Z",
     "iopub.status.idle": "2023-03-19T11:57:36.718303Z",
     "shell.execute_reply": "2023-03-19T11:57:36.717261Z"
    },
    "id": "Yh1y0LXnIHEd",
    "papermill": {
     "duration": 2.661078,
     "end_time": "2023-03-19T11:57:36.721421",
     "exception": false,
     "start_time": "2023-03-19T11:57:34.060343",
     "status": "completed"
    },
    "tags": []
   },
   "outputs": [],
   "source": [
    "import os\n",
    "import cv2\n",
    "import time\n",
    "import numpy as np\n",
    "import pandas as pd\n",
    "from PIL import Image\n",
    "\n",
    "import torch\n",
    "import torch.nn as nn\n",
    "import torch.nn.functional as F\n",
    "\n",
    "from torch.utils.data import DataLoader, Dataset\n",
    "from torch.utils.data import RandomSampler\n",
    "\n",
    "from torchvision import transforms\n",
    "import torchvision.models as models\n",
    "\n",
    "from matplotlib import pyplot as plt\n",
    "import copy\n",
    "\n",
    "from Bio import SeqIO\n",
    "\n"
   ]
  },
  {
   "cell_type": "code",
   "execution_count": 2,
   "id": "6a9526b9",
   "metadata": {
    "execution": {
     "iopub.execute_input": "2023-03-19T11:57:36.734260Z",
     "iopub.status.busy": "2023-03-19T11:57:36.733796Z",
     "iopub.status.idle": "2023-03-19T11:57:47.285786Z",
     "shell.execute_reply": "2023-03-19T11:57:47.284529Z"
    },
    "papermill": {
     "duration": 10.561074,
     "end_time": "2023-03-19T11:57:47.288406",
     "exception": false,
     "start_time": "2023-03-19T11:57:36.727332",
     "status": "completed"
    },
    "tags": []
   },
   "outputs": [
    {
     "name": "stdout",
     "output_type": "stream",
     "text": [
      "Collecting evaluate\r\n",
      "  Downloading evaluate-0.4.0-py3-none-any.whl (81 kB)\r\n",
      "\u001b[2K     \u001b[90m━━━━━━━━━━━━━━━━━━━━━━━━━━━━━━━━━━━━━━━━\u001b[0m \u001b[32m81.4/81.4 kB\u001b[0m \u001b[31m5.5 MB/s\u001b[0m eta \u001b[36m0:00:00\u001b[0m\r\n",
      "\u001b[?25hRequirement already satisfied: huggingface-hub>=0.7.0 in /opt/conda/lib/python3.7/site-packages (from evaluate) (0.12.1)\r\n",
      "Requirement already satisfied: numpy>=1.17 in /opt/conda/lib/python3.7/site-packages (from evaluate) (1.21.6)\r\n",
      "Requirement already satisfied: packaging in /opt/conda/lib/python3.7/site-packages (from evaluate) (23.0)\r\n",
      "Requirement already satisfied: fsspec[http]>=2021.05.0 in /opt/conda/lib/python3.7/site-packages (from evaluate) (2023.1.0)\r\n",
      "Requirement already satisfied: requests>=2.19.0 in /opt/conda/lib/python3.7/site-packages (from evaluate) (2.28.2)\r\n",
      "Requirement already satisfied: tqdm>=4.62.1 in /opt/conda/lib/python3.7/site-packages (from evaluate) (4.64.1)\r\n",
      "Requirement already satisfied: multiprocess in /opt/conda/lib/python3.7/site-packages (from evaluate) (0.70.14)\r\n",
      "Requirement already satisfied: responses<0.19 in /opt/conda/lib/python3.7/site-packages (from evaluate) (0.18.0)\r\n",
      "Requirement already satisfied: pandas in /opt/conda/lib/python3.7/site-packages (from evaluate) (1.3.5)\r\n",
      "Requirement already satisfied: xxhash in /opt/conda/lib/python3.7/site-packages (from evaluate) (3.2.0)\r\n",
      "Requirement already satisfied: datasets>=2.0.0 in /opt/conda/lib/python3.7/site-packages (from evaluate) (2.1.0)\r\n",
      "Requirement already satisfied: dill in /opt/conda/lib/python3.7/site-packages (from evaluate) (0.3.6)\r\n",
      "Requirement already satisfied: importlib-metadata in /opt/conda/lib/python3.7/site-packages (from evaluate) (4.11.4)\r\n",
      "Requirement already satisfied: aiohttp in /opt/conda/lib/python3.7/site-packages (from datasets>=2.0.0->evaluate) (3.8.3)\r\n",
      "Requirement already satisfied: pyarrow>=5.0.0 in /opt/conda/lib/python3.7/site-packages (from datasets>=2.0.0->evaluate) (5.0.0)\r\n",
      "Requirement already satisfied: typing-extensions>=3.7.4.3 in /opt/conda/lib/python3.7/site-packages (from huggingface-hub>=0.7.0->evaluate) (4.4.0)\r\n",
      "Requirement already satisfied: pyyaml>=5.1 in /opt/conda/lib/python3.7/site-packages (from huggingface-hub>=0.7.0->evaluate) (6.0)\r\n",
      "Requirement already satisfied: filelock in /opt/conda/lib/python3.7/site-packages (from huggingface-hub>=0.7.0->evaluate) (3.9.0)\r\n",
      "Requirement already satisfied: certifi>=2017.4.17 in /opt/conda/lib/python3.7/site-packages (from requests>=2.19.0->evaluate) (2022.12.7)\r\n",
      "Requirement already satisfied: urllib3<1.27,>=1.21.1 in /opt/conda/lib/python3.7/site-packages (from requests>=2.19.0->evaluate) (1.26.14)\r\n",
      "Requirement already satisfied: charset-normalizer<4,>=2 in /opt/conda/lib/python3.7/site-packages (from requests>=2.19.0->evaluate) (2.1.1)\r\n",
      "Requirement already satisfied: idna<4,>=2.5 in /opt/conda/lib/python3.7/site-packages (from requests>=2.19.0->evaluate) (3.4)\r\n",
      "Requirement already satisfied: zipp>=0.5 in /opt/conda/lib/python3.7/site-packages (from importlib-metadata->evaluate) (3.11.0)\r\n",
      "Requirement already satisfied: python-dateutil>=2.7.3 in /opt/conda/lib/python3.7/site-packages (from pandas->evaluate) (2.8.2)\r\n",
      "Requirement already satisfied: pytz>=2017.3 in /opt/conda/lib/python3.7/site-packages (from pandas->evaluate) (2022.7.1)\r\n",
      "Requirement already satisfied: yarl<2.0,>=1.0 in /opt/conda/lib/python3.7/site-packages (from aiohttp->datasets>=2.0.0->evaluate) (1.8.2)\r\n",
      "Requirement already satisfied: asynctest==0.13.0 in /opt/conda/lib/python3.7/site-packages (from aiohttp->datasets>=2.0.0->evaluate) (0.13.0)\r\n",
      "Requirement already satisfied: frozenlist>=1.1.1 in /opt/conda/lib/python3.7/site-packages (from aiohttp->datasets>=2.0.0->evaluate) (1.3.3)\r\n",
      "Requirement already satisfied: attrs>=17.3.0 in /opt/conda/lib/python3.7/site-packages (from aiohttp->datasets>=2.0.0->evaluate) (22.2.0)\r\n",
      "Requirement already satisfied: aiosignal>=1.1.2 in /opt/conda/lib/python3.7/site-packages (from aiohttp->datasets>=2.0.0->evaluate) (1.3.1)\r\n",
      "Requirement already satisfied: multidict<7.0,>=4.5 in /opt/conda/lib/python3.7/site-packages (from aiohttp->datasets>=2.0.0->evaluate) (6.0.4)\r\n",
      "Requirement already satisfied: async-timeout<5.0,>=4.0.0a3 in /opt/conda/lib/python3.7/site-packages (from aiohttp->datasets>=2.0.0->evaluate) (4.0.2)\r\n",
      "Requirement already satisfied: six>=1.5 in /opt/conda/lib/python3.7/site-packages (from python-dateutil>=2.7.3->pandas->evaluate) (1.16.0)\r\n",
      "Installing collected packages: evaluate\r\n",
      "Successfully installed evaluate-0.4.0\r\n",
      "\u001b[33mWARNING: Running pip as the 'root' user can result in broken permissions and conflicting behaviour with the system package manager. It is recommended to use a virtual environment instead: https://pip.pypa.io/warnings/venv\u001b[0m\u001b[33m\r\n",
      "\u001b[0m"
     ]
    }
   ],
   "source": [
    "!pip install evaluate"
   ]
  },
  {
   "cell_type": "markdown",
   "id": "faef25bf",
   "metadata": {
    "papermill": {
     "duration": 0.00602,
     "end_time": "2023-03-19T11:57:47.300840",
     "exception": false,
     "start_time": "2023-03-19T11:57:47.294820",
     "status": "completed"
    },
    "tags": []
   },
   "source": [
    "# Prepare Dataset\n",
    "## Import"
   ]
  },
  {
   "cell_type": "code",
   "execution_count": 3,
   "id": "599e594e",
   "metadata": {
    "execution": {
     "iopub.execute_input": "2023-03-19T11:57:47.314558Z",
     "iopub.status.busy": "2023-03-19T11:57:47.314232Z",
     "iopub.status.idle": "2023-03-19T11:57:47.319072Z",
     "shell.execute_reply": "2023-03-19T11:57:47.318013Z"
    },
    "id": "b3OXAKLcIHEh",
    "papermill": {
     "duration": 0.014322,
     "end_time": "2023-03-19T11:57:47.321239",
     "exception": false,
     "start_time": "2023-03-19T11:57:47.306917",
     "status": "completed"
    },
    "tags": []
   },
   "outputs": [],
   "source": [
    "DIR_TRAIN = \"/kaggle/input/aist4010-spring2023-a2/data/train.fasta\"\n",
    "DIR_VALID = \"/kaggle/input/aist4010-spring2023-a2/data/val.fasta\"\n",
    "DIR_TEST = \"/kaggle/input/aist4010-spring2023-a2/data/test.fasta\""
   ]
  },
  {
   "cell_type": "code",
   "execution_count": 4,
   "id": "10ec3d3e",
   "metadata": {
    "execution": {
     "iopub.execute_input": "2023-03-19T11:57:47.334858Z",
     "iopub.status.busy": "2023-03-19T11:57:47.333976Z",
     "iopub.status.idle": "2023-03-19T11:57:47.340136Z",
     "shell.execute_reply": "2023-03-19T11:57:47.339152Z"
    },
    "papermill": {
     "duration": 0.015168,
     "end_time": "2023-03-19T11:57:47.342268",
     "exception": false,
     "start_time": "2023-03-19T11:57:47.327100",
     "status": "completed"
    },
    "tags": []
   },
   "outputs": [],
   "source": [
    "arg_dict = {'aminoglycoside': 0, 'macrolide-lincosamide-streptogramin': 1, 'polymyxin': 2,\n",
    "'fosfomycin': 3, 'trimethoprim': 4, 'bacitracin': 5, 'quinolone': 6, 'multidrug': 7,\n",
    "'chloramphenicol': 8, 'tetracycline': 9, 'rifampin': 10, 'beta_lactam': 11,\n",
    "'sulfonamide': 12, 'glycopeptide': 13}"
   ]
  },
  {
   "cell_type": "code",
   "execution_count": 5,
   "id": "0e504f22",
   "metadata": {
    "execution": {
     "iopub.execute_input": "2023-03-19T11:57:47.355428Z",
     "iopub.status.busy": "2023-03-19T11:57:47.355131Z",
     "iopub.status.idle": "2023-03-19T11:57:47.359790Z",
     "shell.execute_reply": "2023-03-19T11:57:47.358709Z"
    },
    "papermill": {
     "duration": 0.013776,
     "end_time": "2023-03-19T11:57:47.361946",
     "exception": false,
     "start_time": "2023-03-19T11:57:47.348170",
     "status": "completed"
    },
    "tags": []
   },
   "outputs": [],
   "source": [
    "# X = sequence, y = class (0-15)\n",
    "def get_class(ind):\n",
    "    parsed = ind.split(\"|\")\n",
    "    if (parsed[0] == 'sp'):\n",
    "        return 14\n",
    "    else:\n",
    "        return arg_dict[parsed[3]]"
   ]
  },
  {
   "cell_type": "code",
   "execution_count": 6,
   "id": "f85fe2a1",
   "metadata": {
    "execution": {
     "iopub.execute_input": "2023-03-19T11:57:47.375593Z",
     "iopub.status.busy": "2023-03-19T11:57:47.374762Z",
     "iopub.status.idle": "2023-03-19T11:57:47.665344Z",
     "shell.execute_reply": "2023-03-19T11:57:47.663884Z"
    },
    "papermill": {
     "duration": 0.300325,
     "end_time": "2023-03-19T11:57:47.668211",
     "exception": false,
     "start_time": "2023-03-19T11:57:47.367886",
     "status": "completed"
    },
    "tags": []
   },
   "outputs": [
    {
     "name": "stdout",
     "output_type": "stream",
     "text": [
      "['MSLNEPIKKVSIVIPVYNEQESLPALIDRTTAACKLLTQAYEIILVDDGSSDNSAELLTTAANDPDSQIIAVLLNRNYGQHSAIMAGFNQVSGDLIITLDADLQNPPEEIPRLVHVAEEGYDVVGTVRANRQDSLFRKTASRMINMMIQRATGKSMGDYGCMLRAYRRHIVEAMLHCHERSTFIPILANTFARRTTEITVHHAEREFGNSKYSLMRLINLMYDLITCLTTTPLRLLSLVGSAIALLGFTFSVLLVALRLIFGPEWAGGGVFTLFAVLFMFIGAQFVGMGLLGEYIGRIYNDVRARPRYFVQKVVGAEQTENNQDVEK', 'MQKPVLIASAALICAAVIGIAVYATGSAKKDAGGFAGYPPVKVALASVERRVVPRVFDGVGELEAGRQVQVAAEAAGRITRIAFESGQQVQQGQLLVQLNDAVEQAELIRLKAQLRNAEILHARARKLVERNVASQEQLDNAVAARDMALGAVRQTQALIDQKAISAPFSGQLGIRRVHLGQYLGVAEPVASLVDARTLKSNFSLDESTSPELKLGQPLEVLVDAYPGRSFPARISAIDPLIGKSRTVQVQALLDNPEGLLAAGMFASIRVSRKADAPSLSVPETAVTYTAYGDTVFVAHQDGDRPLSAKRVSVRIGERWDGRVEILQGLAEGDRVVTSGQINLSDGMAVEPVKEDTLSSAAPPVPVAGR', 'MTALLELKGIRRSYQSGGETVDVLQDVSLTINAGELVAIIGASGSGKSTLMNILGCLDKPSAGIYRVAGQDVATLDNDALAALRREHFGFIFQRYHLLPHLSAAHNVEVPAVYAGLGKHERRERANMLLTRLGLEERVNYQPNQLSGGQQQRVSIARALMNGGQVILADEPTGALDSHSSVEVMAILKQLQQQGHTVIIVTHDPNVAAQAERIIEIKDGRIMADSGSKTVPTVVASEAVSLAPSAPSWQQLAGRFREALLMAWRAMSANKMRTALTMLGIIIGIASVVSILVVGDAAKQMVLADIRAIGTNTIDIYPGKDYGDDDPSTRQALVYDDMVALKEQSYVSAVSPTISGSMRLRYGNVDVAASVSGVSEQYFHVYGMKLEQGTPITREQVERQSQVVVIDRNTQRRLFPHIKDVVGQVILVGNMPATVVGVVEEKQSMFGSSKALRIWVPYSTMASRLMGRSYFDSITIRIKEGYSSKEAEQQLVRLLTMRHGKKDIFTYNMDSLLQTAEKTTRTMQLFLTLVAVISLVVGGIGVMNIMLVSVTERTREIGIRMAVGARSSDVMQQFLIEAILVCLVGGALGITLSFAIGLIVEMFLPNWQIAFPPVALFSAFLCSTVIGVVFGYLPARSAARLNPIDALARE', 'MSIMRLFTFILSIFIVGMVEMMVAGIMNLMSQDLHVSEAVVGQLVTMYALTFAICGPILVKLTNRFSSRPVLLWTLLIFIIGNGIIAVAPNFSILVVGRIISSAAAALIIVKVLAITAMLSAPKNRGKMIGLVYTGFSGANVFGVPIGTVIGDLVGWRYTFLFLIIVSIIVGFLMMIYLPKDQEIQRGPVNHEAPSHENHVTSKILRPAEVAKYLIITFLVLIANSVTFVFINPLILSNGHDMSFVSLALLVNGIAGVIGTSLGGIFSDKITSKRWLMISVSIFIVMMLLMNLILPGSGLLLAGLFIWNIMQWSTNPAVQSGVIQHVEGDTSQVMSWNMSSLNAGIGVGGIIGGLVMTHVSVQAITYTSAIIGALGLIVVFTLKNNHYAKTFKSS', 'MKLLLYPLLLFLVIPAFAQADFEHAISDLEAHNQAKIGVALVSENGNLIQGYRANERFAMCSTFKLPLAALVLSRIDAGEENPERKLHYDSAFLEEYAPAAKRYVATGYMTVTEAIQSALQLSDNAAANLLLKEVGGPPLLTKYFRSLGDKVSRLDRIESTLNTNTPGDERDTTTPMSMAQTVSKLIFGDTLTYKSKGQLRRLLIGNQTGDKTIRAGLPDSWVTGDKTGSCANGGRNDVAFFITTAGKKYVLSVYTNAPELQGEERALLIASVAKLARQYVVH']\n",
      "[2, 7, 1, 8, 11]\n"
     ]
    }
   ],
   "source": [
    "# parse training data\n",
    "train_X = []\n",
    "train_y = []\n",
    "for index, record in enumerate(SeqIO.parse(DIR_TRAIN, \"fasta\")):\n",
    "    train_X.append(str(record.seq))\n",
    "    train_y.append(get_class(record.id))\n",
    "print(train_X[:5])\n",
    "print(train_y[:5])"
   ]
  },
  {
   "cell_type": "code",
   "execution_count": 7,
   "id": "3466aa70",
   "metadata": {
    "execution": {
     "iopub.execute_input": "2023-03-19T11:57:47.682696Z",
     "iopub.status.busy": "2023-03-19T11:57:47.682401Z",
     "iopub.status.idle": "2023-03-19T11:57:47.755416Z",
     "shell.execute_reply": "2023-03-19T11:57:47.754234Z"
    },
    "papermill": {
     "duration": 0.083093,
     "end_time": "2023-03-19T11:57:47.758273",
     "exception": false,
     "start_time": "2023-03-19T11:57:47.675180",
     "status": "completed"
    },
    "tags": []
   },
   "outputs": [
    {
     "name": "stdout",
     "output_type": "stream",
     "text": [
      "['MTDVIKAIILGIIEGLTEFLPVSSTGHLILAGNLLSFEGDAAITFKIVIQLGAVMAVLILYWKRYLEIGANMIRMDFSKSKGLNVIHMILAMLPALILYLLFKDTIKSQLFGPTPVLIGLVVGGVLMIIAARNRRTETADTIDGINYKQAFGIGLFQCLALWPGFSRSGSTISGGLLLGTSQKAAADFTFIISVPVMFGASLLDLYDSRDLLSSDDLILMLIGFATSFLVAMIAVVTFIKLIKRLRLEWFALYRFVLAALFYLIVIQ', 'MDIIFALKALVMGLVEGFTEFLPISSTGHLILAGSLLDLQRNVSKEVIDVFEIVIQAGAILAVCWEYRARIASVLSGLTSDHKARKFVLNLIVAFLPLAVLGLAVGKHIKAVLFKPVPVALAFIIGGFVILWAERRAKTNPTAVRIHSVEDMSVSDALKVGFAQAFALIPGTSRSGATIIGGMLFGLSRKAGTEFSFFLAIPTLLCATFYSLYKERALLSADLTGFFSIGTVAAFVSAFLCVRWLLRYISSHDFTVFAWYRIVFGLVVIVTSYTGMVAWVD', 'MKQNIRQREGVFLENIIFVIKSVILGIVEGITEFLPVSSTGHLVIFQNLIGFKGITDKYVEMYTYVIQLGAILAVIVLYWRKIVETLINFFPGKVSYEKSGFRFWFIIFIACIPGGVFGILLDDLAEQYLFSPVTVAITLFLGALWMIYAENTFKNKSAANIRNSLGSDLKITTRQAVIIGLFQCLAIIPGMSRSASTIIGGWISGLSTVAAAEFSFFLAIPVMVGMSFLKIFKIGGLLSLTHLELISLGVGFAVSFGVALIVIEKFISYLQKKPMKIFAVYRIIFAVVVLITGFLGIF', 'MFKITLCALLITASCSTFAAPQQINDIVHRTITPLIEQQKIPGMAVAVIYQGKPYYFTWGYADIAKKQPVTQQTLFELGSVSKTFTGVLGGDAIARGEIKLSDPATKYWPELTAKQWNGITLLHLATYTAGGLPLQVPDEVKSSSDLLRFYQNWQPAWTPGTQRLYANTSIGLFGALAVKPSGLSFEQAMQTRVFQPLKLNHTWINVPPAEEKNYAWGYREGKAVHVSPGALDAEAYGVKSTIEDMARWVQSNLKPLDITEKTLQQGIQLAQSRYWQTGDMYQGLGWEMQDWPVNPDIIINGSDNKIALAARPVKAITPPTPAVRASWVHKTGATGGFGSYVAFIPEKELGIVMLANKNYPNPARVTAAWQILNALQ', 'MMTKSLSCALLLSVTSSAFAAPMSEKQLAEVVERTVTPLMNAQAIPGMAVAVIYQGQPHYFTFGKADVAANKPVTPQTLFELGSISKTFTGVLGGDAIARGEIALGDPVAKYWPELTGKQWQGIRMLDLATYTAGGLPLQVPDEVTDTASLLRFYQNWQPQWKPGTTRLYANASIGLFGALAVKPSGMSYEQAMTTRVFKPLKLDHTWINVPKAEEAHYAWGYREGKAVHVSPGMLDAEAYGVKTNVKDMASWLIANMKPDSLQAPSLKQGIALAQSRYWRVGAMYQGLGWEMLNWPVDAKTVVGGSDNKVALAPLPVAEVNPPAPPVKASWVHKTGSTGGFGSYVAFIPEKQLGIVMLANKSYPNPARVEAAYRILDALQ']\n",
      "[5, 5, 5, 11, 11]\n"
     ]
    }
   ],
   "source": [
    "# parse validation data\n",
    "val_X = []\n",
    "val_y = []\n",
    "for index, record in enumerate(SeqIO.parse(DIR_VALID, \"fasta\")):\n",
    "    val_X.append(str(record.seq))\n",
    "    val_y.append(get_class(record.id))\n",
    "print(val_X[:5])\n",
    "print(val_y[:5])"
   ]
  },
  {
   "cell_type": "markdown",
   "id": "7b1ee627",
   "metadata": {
    "papermill": {
     "duration": 0.00592,
     "end_time": "2023-03-19T11:57:47.770526",
     "exception": false,
     "start_time": "2023-03-19T11:57:47.764606",
     "status": "completed"
    },
    "tags": []
   },
   "source": [
    "## Tokenize"
   ]
  },
  {
   "cell_type": "markdown",
   "id": "efc525fe",
   "metadata": {
    "papermill": {
     "duration": 0.006055,
     "end_time": "2023-03-19T11:57:47.782788",
     "exception": false,
     "start_time": "2023-03-19T11:57:47.776733",
     "status": "completed"
    },
    "tags": []
   },
   "source": [
    "Checkpoint name\tNum layers\tNum parameters\n",
    "\n",
    "esm2_t48_15B_UR50D\t48\t15B\n",
    "\n",
    "esm2_t36_3B_UR50D\t36\t3B\n",
    "\n",
    "esm2_t33_650M_UR50D\t33\t650M\n",
    "\n",
    "esm2_t30_150M_UR50D\t30\t150M\n",
    "\n",
    "esm2_t12_35M_UR50D\t12\t35M\n",
    "\n",
    "esm2_t6_8M_UR50D\t6\t8M"
   ]
  },
  {
   "cell_type": "code",
   "execution_count": 8,
   "id": "56e77a20",
   "metadata": {
    "execution": {
     "iopub.execute_input": "2023-03-19T11:57:47.796656Z",
     "iopub.status.busy": "2023-03-19T11:57:47.795832Z",
     "iopub.status.idle": "2023-03-19T11:57:47.800646Z",
     "shell.execute_reply": "2023-03-19T11:57:47.799490Z"
    },
    "papermill": {
     "duration": 0.014002,
     "end_time": "2023-03-19T11:57:47.802891",
     "exception": false,
     "start_time": "2023-03-19T11:57:47.788889",
     "status": "completed"
    },
    "tags": []
   },
   "outputs": [],
   "source": [
    "model_checkpoint = \"facebook/esm2_t12_35M_UR50D\" \n",
    "epochs = 4"
   ]
  },
  {
   "cell_type": "code",
   "execution_count": 9,
   "id": "b605000c",
   "metadata": {
    "execution": {
     "iopub.execute_input": "2023-03-19T11:57:47.816788Z",
     "iopub.status.busy": "2023-03-19T11:57:47.816527Z",
     "iopub.status.idle": "2023-03-19T11:57:57.493557Z",
     "shell.execute_reply": "2023-03-19T11:57:57.492436Z"
    },
    "id": "WBamvxjjIHEl",
    "papermill": {
     "duration": 9.688837,
     "end_time": "2023-03-19T11:57:57.498437",
     "exception": false,
     "start_time": "2023-03-19T11:57:47.809600",
     "status": "completed"
    },
    "tags": []
   },
   "outputs": [
    {
     "data": {
      "application/vnd.jupyter.widget-view+json": {
       "model_id": "67af854e51b0443f9bb79adbf90fc75e",
       "version_major": 2,
       "version_minor": 0
      },
      "text/plain": [
       "Downloading (…)okenizer_config.json:   0%|          | 0.00/95.0 [00:00<?, ?B/s]"
      ]
     },
     "metadata": {},
     "output_type": "display_data"
    },
    {
     "data": {
      "application/vnd.jupyter.widget-view+json": {
       "model_id": "3f0066d7981640dba5192e9bf495ce9b",
       "version_major": 2,
       "version_minor": 0
      },
      "text/plain": [
       "Downloading (…)solve/main/vocab.txt:   0%|          | 0.00/93.0 [00:00<?, ?B/s]"
      ]
     },
     "metadata": {},
     "output_type": "display_data"
    },
    {
     "data": {
      "application/vnd.jupyter.widget-view+json": {
       "model_id": "243382022a284971bc62fee22524e706",
       "version_major": 2,
       "version_minor": 0
      },
      "text/plain": [
       "Downloading (…)cial_tokens_map.json:   0%|          | 0.00/125 [00:00<?, ?B/s]"
      ]
     },
     "metadata": {},
     "output_type": "display_data"
    }
   ],
   "source": [
    "from transformers import AutoTokenizer\n",
    "\n",
    "tokenizer = AutoTokenizer.from_pretrained(model_checkpoint)"
   ]
  },
  {
   "cell_type": "code",
   "execution_count": 10,
   "id": "fede2365",
   "metadata": {
    "execution": {
     "iopub.execute_input": "2023-03-19T11:57:57.516720Z",
     "iopub.status.busy": "2023-03-19T11:57:57.515498Z",
     "iopub.status.idle": "2023-03-19T11:57:57.524526Z",
     "shell.execute_reply": "2023-03-19T11:57:57.523550Z"
    },
    "papermill": {
     "duration": 0.018845,
     "end_time": "2023-03-19T11:57:57.526636",
     "exception": false,
     "start_time": "2023-03-19T11:57:57.507791",
     "status": "completed"
    },
    "tags": []
   },
   "outputs": [
    {
     "data": {
      "text/plain": [
       "{'input_ids': [0, 20, 8, 4, 17, 9, 14, 12, 15, 15, 7, 8, 12, 7, 12, 14, 7, 19, 17, 9, 16, 9, 8, 4, 14, 5, 4, 12, 13, 10, 11, 11, 5, 5, 23, 15, 4, 4, 11, 16, 5, 19, 9, 12, 12, 4, 7, 13, 13, 6, 8, 8, 13, 17, 8, 5, 9, 4, 4, 11, 11, 5, 5, 17, 13, 14, 13, 8, 16, 12, 12, 5, 7, 4, 4, 17, 10, 17, 19, 6, 16, 21, 8, 5, 12, 20, 5, 6, 18, 17, 16, 7, 8, 6, 13, 4, 12, 12, 11, 4, 13, 5, 13, 4, 16, 17, 14, 14, 9, 9, 12, 14, 10, 4, 7, 21, 7, 5, 9, 9, 6, 19, 13, 7, 7, 6, 11, 7, 10, 5, 17, 10, 16, 13, 8, 4, 18, 10, 15, 11, 5, 8, 10, 20, 12, 17, 20, 20, 12, 16, 10, 5, 11, 6, 15, 8, 20, 6, 13, 19, 6, 23, 20, 4, 10, 5, 19, 10, 10, 21, 12, 7, 9, 5, 20, 4, 21, 23, 21, 9, 10, 8, 11, 18, 12, 14, 12, 4, 5, 17, 11, 18, 5, 10, 10, 11, 11, 9, 12, 11, 7, 21, 21, 5, 9, 10, 9, 18, 6, 17, 8, 15, 19, 8, 4, 20, 10, 4, 12, 17, 4, 20, 19, 13, 4, 12, 11, 23, 4, 11, 11, 11, 14, 4, 10, 4, 4, 8, 4, 7, 6, 8, 5, 12, 5, 4, 4, 6, 18, 11, 18, 8, 7, 4, 4, 7, 5, 4, 10, 4, 12, 18, 6, 14, 9, 22, 5, 6, 6, 6, 7, 18, 11, 4, 18, 5, 7, 4, 18, 20, 18, 12, 6, 5, 16, 18, 7, 6, 20, 6, 4, 4, 6, 9, 19, 12, 6, 10, 12, 19, 17, 13, 7, 10, 5, 10, 14, 10, 19, 18, 7, 16, 15, 7, 7, 6, 5, 9, 16, 11, 9, 17, 17, 16, 13, 7, 9, 15, 2], 'attention_mask': [1, 1, 1, 1, 1, 1, 1, 1, 1, 1, 1, 1, 1, 1, 1, 1, 1, 1, 1, 1, 1, 1, 1, 1, 1, 1, 1, 1, 1, 1, 1, 1, 1, 1, 1, 1, 1, 1, 1, 1, 1, 1, 1, 1, 1, 1, 1, 1, 1, 1, 1, 1, 1, 1, 1, 1, 1, 1, 1, 1, 1, 1, 1, 1, 1, 1, 1, 1, 1, 1, 1, 1, 1, 1, 1, 1, 1, 1, 1, 1, 1, 1, 1, 1, 1, 1, 1, 1, 1, 1, 1, 1, 1, 1, 1, 1, 1, 1, 1, 1, 1, 1, 1, 1, 1, 1, 1, 1, 1, 1, 1, 1, 1, 1, 1, 1, 1, 1, 1, 1, 1, 1, 1, 1, 1, 1, 1, 1, 1, 1, 1, 1, 1, 1, 1, 1, 1, 1, 1, 1, 1, 1, 1, 1, 1, 1, 1, 1, 1, 1, 1, 1, 1, 1, 1, 1, 1, 1, 1, 1, 1, 1, 1, 1, 1, 1, 1, 1, 1, 1, 1, 1, 1, 1, 1, 1, 1, 1, 1, 1, 1, 1, 1, 1, 1, 1, 1, 1, 1, 1, 1, 1, 1, 1, 1, 1, 1, 1, 1, 1, 1, 1, 1, 1, 1, 1, 1, 1, 1, 1, 1, 1, 1, 1, 1, 1, 1, 1, 1, 1, 1, 1, 1, 1, 1, 1, 1, 1, 1, 1, 1, 1, 1, 1, 1, 1, 1, 1, 1, 1, 1, 1, 1, 1, 1, 1, 1, 1, 1, 1, 1, 1, 1, 1, 1, 1, 1, 1, 1, 1, 1, 1, 1, 1, 1, 1, 1, 1, 1, 1, 1, 1, 1, 1, 1, 1, 1, 1, 1, 1, 1, 1, 1, 1, 1, 1, 1, 1, 1, 1, 1, 1, 1, 1, 1, 1, 1, 1, 1, 1, 1, 1, 1, 1, 1, 1, 1, 1, 1, 1, 1, 1, 1, 1, 1, 1, 1, 1, 1, 1, 1, 1, 1, 1, 1, 1, 1, 1, 1]}"
      ]
     },
     "execution_count": 10,
     "metadata": {},
     "output_type": "execute_result"
    }
   ],
   "source": [
    "tokenizer(train_X[0])"
   ]
  },
  {
   "cell_type": "code",
   "execution_count": 11,
   "id": "d565800c",
   "metadata": {
    "execution": {
     "iopub.execute_input": "2023-03-19T11:57:57.541499Z",
     "iopub.status.busy": "2023-03-19T11:57:57.540659Z",
     "iopub.status.idle": "2023-03-19T11:58:32.145939Z",
     "shell.execute_reply": "2023-03-19T11:58:32.144875Z"
    },
    "papermill": {
     "duration": 34.615287,
     "end_time": "2023-03-19T11:58:32.148528",
     "exception": false,
     "start_time": "2023-03-19T11:57:57.533241",
     "status": "completed"
    },
    "tags": []
   },
   "outputs": [],
   "source": [
    "train_X_token = tokenizer(train_X, max_length=1024, truncation=True)\n",
    "val_X_token = tokenizer(val_X, max_length=1024, truncation=True)"
   ]
  },
  {
   "cell_type": "code",
   "execution_count": 12,
   "id": "2d053c77",
   "metadata": {
    "execution": {
     "iopub.execute_input": "2023-03-19T11:58:32.164284Z",
     "iopub.status.busy": "2023-03-19T11:58:32.163939Z",
     "iopub.status.idle": "2023-03-19T11:58:34.921145Z",
     "shell.execute_reply": "2023-03-19T11:58:34.920165Z"
    },
    "papermill": {
     "duration": 2.767446,
     "end_time": "2023-03-19T11:58:34.923426",
     "exception": false,
     "start_time": "2023-03-19T11:58:32.155980",
     "status": "completed"
    },
    "tags": []
   },
   "outputs": [
    {
     "data": {
      "text/plain": [
       "Dataset({\n",
       "    features: ['input_ids', 'attention_mask', 'labels'],\n",
       "    num_rows: 21209\n",
       "})"
      ]
     },
     "execution_count": 12,
     "metadata": {},
     "output_type": "execute_result"
    }
   ],
   "source": [
    "from datasets import Dataset\n",
    "train_dataset = Dataset.from_dict(train_X_token).add_column(\"labels\", train_y)\n",
    "val_dataset = Dataset.from_dict(val_X_token).add_column(\"labels\", val_y)\n",
    "\n",
    "# train_dataset = Dataset.from_dict(train_X_token)\n",
    "# val_dataset = Dataset.from_dict(val_X_token)\n",
    "\n",
    "train_dataset"
   ]
  },
  {
   "cell_type": "markdown",
   "id": "8f6599a4",
   "metadata": {
    "papermill": {
     "duration": 0.006683,
     "end_time": "2023-03-19T11:58:34.937015",
     "exception": false,
     "start_time": "2023-03-19T11:58:34.930332",
     "status": "completed"
    },
    "tags": []
   },
   "source": [
    "# Configure Model"
   ]
  },
  {
   "cell_type": "code",
   "execution_count": 13,
   "id": "66e33963",
   "metadata": {
    "execution": {
     "iopub.execute_input": "2023-03-19T11:58:34.952489Z",
     "iopub.status.busy": "2023-03-19T11:58:34.951307Z",
     "iopub.status.idle": "2023-03-19T11:58:48.322939Z",
     "shell.execute_reply": "2023-03-19T11:58:48.320955Z"
    },
    "papermill": {
     "duration": 13.382071,
     "end_time": "2023-03-19T11:58:48.325743",
     "exception": false,
     "start_time": "2023-03-19T11:58:34.943672",
     "status": "completed"
    },
    "tags": []
   },
   "outputs": [
    {
     "data": {
      "application/vnd.jupyter.widget-view+json": {
       "model_id": "e29b7594de6340469eaf50021607634b",
       "version_major": 2,
       "version_minor": 0
      },
      "text/plain": [
       "Downloading (…)lve/main/config.json:   0%|          | 0.00/778 [00:00<?, ?B/s]"
      ]
     },
     "metadata": {},
     "output_type": "display_data"
    },
    {
     "data": {
      "application/vnd.jupyter.widget-view+json": {
       "model_id": "4045b55ffcd74a67940f1e362a8e9243",
       "version_major": 2,
       "version_minor": 0
      },
      "text/plain": [
       "Downloading (…)\"tf_model.h5\";:   0%|          | 0.00/134M [00:00<?, ?B/s]"
      ]
     },
     "metadata": {},
     "output_type": "display_data"
    },
    {
     "name": "stderr",
     "output_type": "stream",
     "text": [
      "Some layers from the model checkpoint at facebook/esm2_t12_35M_UR50D were not used when initializing TFEsmForSequenceClassification: ['lm_head']\n",
      "- This IS expected if you are initializing TFEsmForSequenceClassification from the checkpoint of a model trained on another task or with another architecture (e.g. initializing a BertForSequenceClassification model from a BertForPreTraining model).\n",
      "- This IS NOT expected if you are initializing TFEsmForSequenceClassification from the checkpoint of a model that you expect to be exactly identical (initializing a BertForSequenceClassification model from a BertForSequenceClassification model).\n",
      "Some layers of TFEsmForSequenceClassification were not initialized from the model checkpoint at facebook/esm2_t12_35M_UR50D and are newly initialized: ['classifier']\n",
      "You should probably TRAIN this model on a down-stream task to be able to use it for predictions and inference.\n"
     ]
    }
   ],
   "source": [
    "from transformers import TFAutoModelForSequenceClassification\n",
    "\n",
    "num_labels = 15\n",
    "model = TFAutoModelForSequenceClassification.from_pretrained(model_checkpoint, num_labels=num_labels)"
   ]
  },
  {
   "cell_type": "code",
   "execution_count": 14,
   "id": "a1bcf2ad",
   "metadata": {
    "execution": {
     "iopub.execute_input": "2023-03-19T11:58:48.342038Z",
     "iopub.status.busy": "2023-03-19T11:58:48.341766Z",
     "iopub.status.idle": "2023-03-19T11:58:48.653558Z",
     "shell.execute_reply": "2023-03-19T11:58:48.652570Z"
    },
    "papermill": {
     "duration": 0.322825,
     "end_time": "2023-03-19T11:58:48.656111",
     "exception": false,
     "start_time": "2023-03-19T11:58:48.333286",
     "status": "completed"
    },
    "tags": []
   },
   "outputs": [],
   "source": [
    "tf_train_set = model.prepare_tf_dataset(\n",
    "    train_dataset,\n",
    "    batch_size=8,\n",
    "    shuffle=True,\n",
    "    tokenizer=tokenizer\n",
    ")\n",
    "\n",
    "tf_val_set = model.prepare_tf_dataset(\n",
    "    val_dataset,\n",
    "    batch_size=8,\n",
    "    shuffle=False,\n",
    "    tokenizer=tokenizer\n",
    ")"
   ]
  },
  {
   "cell_type": "code",
   "execution_count": 15,
   "id": "400e49ba",
   "metadata": {
    "execution": {
     "iopub.execute_input": "2023-03-19T11:58:48.672743Z",
     "iopub.status.busy": "2023-03-19T11:58:48.671885Z",
     "iopub.status.idle": "2023-03-19T11:58:48.690359Z",
     "shell.execute_reply": "2023-03-19T11:58:48.689451Z"
    },
    "papermill": {
     "duration": 0.028855,
     "end_time": "2023-03-19T11:58:48.692452",
     "exception": false,
     "start_time": "2023-03-19T11:58:48.663597",
     "status": "completed"
    },
    "tags": []
   },
   "outputs": [
    {
     "name": "stderr",
     "output_type": "stream",
     "text": [
      "No loss specified in compile() - the model's internal loss computation will be used as the loss. Don't panic - this is a common way to train TensorFlow models in Transformers! To disable this behaviour please pass a loss argument, or explicitly pass `loss=None` if you do not want your model to compute a loss.\n"
     ]
    }
   ],
   "source": [
    "from transformers import AdamWeightDecay\n",
    "\n",
    "model.compile(optimizer=AdamWeightDecay(2e-5), metrics=[\"accuracy\"])"
   ]
  },
  {
   "cell_type": "code",
   "execution_count": 16,
   "id": "e6978fca",
   "metadata": {
    "execution": {
     "iopub.execute_input": "2023-03-19T11:58:48.708149Z",
     "iopub.status.busy": "2023-03-19T11:58:48.707869Z",
     "iopub.status.idle": "2023-03-19T14:12:34.658895Z",
     "shell.execute_reply": "2023-03-19T14:12:34.657726Z"
    },
    "papermill": {
     "duration": 8026.526897,
     "end_time": "2023-03-19T14:12:35.226575",
     "exception": false,
     "start_time": "2023-03-19T11:58:48.699678",
     "status": "completed"
    },
    "tags": []
   },
   "outputs": [
    {
     "name": "stdout",
     "output_type": "stream",
     "text": [
      "Epoch 1/4\n",
      "2651/2651 [==============================] - 1984s 739ms/step - loss: 0.3728 - accuracy: 0.9430 - val_loss: 0.1313 - val_accuracy: 0.9756\n",
      "Epoch 2/4\n",
      "2651/2651 [==============================] - 1988s 750ms/step - loss: 0.0763 - accuracy: 0.9864 - val_loss: 0.0909 - val_accuracy: 0.9824\n",
      "Epoch 3/4\n",
      "2651/2651 [==============================] - 1993s 752ms/step - loss: 0.0408 - accuracy: 0.9911 - val_loss: 0.0782 - val_accuracy: 0.9856\n",
      "Epoch 4/4\n",
      "2651/2651 [==============================] - 2004s 756ms/step - loss: 0.0260 - accuracy: 0.9943 - val_loss: 0.0733 - val_accuracy: 0.9866\n"
     ]
    },
    {
     "data": {
      "text/plain": [
       "<keras.callbacks.History at 0x7fda645cc2d0>"
      ]
     },
     "execution_count": 16,
     "metadata": {},
     "output_type": "execute_result"
    }
   ],
   "source": [
    "model.fit(tf_train_set, validation_data=tf_val_set, epochs=epochs)"
   ]
  },
  {
   "cell_type": "markdown",
   "id": "ecfd55fb",
   "metadata": {
    "id": "lHFIPmzB5x8O",
    "papermill": {
     "duration": 0.561576,
     "end_time": "2023-03-19T14:12:36.412210",
     "exception": false,
     "start_time": "2023-03-19T14:12:35.850634",
     "status": "completed"
    },
    "tags": []
   },
   "source": [
    "# Inference"
   ]
  },
  {
   "cell_type": "code",
   "execution_count": 17,
   "id": "fee95d4b",
   "metadata": {
    "execution": {
     "iopub.execute_input": "2023-03-19T14:12:37.537500Z",
     "iopub.status.busy": "2023-03-19T14:12:37.537115Z",
     "iopub.status.idle": "2023-03-19T14:12:37.607536Z",
     "shell.execute_reply": "2023-03-19T14:12:37.605845Z"
    },
    "papermill": {
     "duration": 0.642033,
     "end_time": "2023-03-19T14:12:37.609851",
     "exception": false,
     "start_time": "2023-03-19T14:12:36.967818",
     "status": "completed"
    },
    "tags": []
   },
   "outputs": [
    {
     "name": "stdout",
     "output_type": "stream",
     "text": [
      "['MYTKNAAIVLRLMTESDLPMLHAWLNRPHIVEWWGGEDKRPTLGEVLEHYSPRVLAEQAVVPYIAMLDDEPIGYAQSYTALGSGDGWWEDETDPGVRGIDQSLANPSQLNKGLGTTLVRSLVELLFSDPAVSKIQTDPSPNNHRAIRCYEKAGFAQDKIILTPDGPAVYMVQTRQAFESQRNAA', 'MLILTKTAGVFFKPSKRKVYEFLRSFNFHPGTLFLHKIVLGIETSCDDTAAAVVDETGNVLGEAIHSQTEVHLKTGGIVPPAAQQLHRENIQRIVQEALSASGVSPSDLSAIATTIKPGLALSLGVGLSFSLQLVGQLKKPFIPIHHMEAHALTIRLTNKVEFPFLVLLISGGHCLLALVQGVSDFLLLGKSLDIAPGDMLDKVARRLSLIKHPECSTMSGGKAIEHLAKQGNRFHFDIKPPLHHAKNCDFSFTGLQHVTDKIIMKKEKEEGIEKGQILSSAADIAATVQHTMACHLVKRTHRAILFCKQRDLLPQNNAVLVASGGVASNFYIRRALEILTNATQCTLLCPPPRLCTDNGIMIAWNGIERLRAGLGILHDIEGIRYEPKCPLGVDISKEVGEASIKVPQLKMEI', 'MRFTLLAFALAVALPAAHASAAEAPLPQLRAYTVDASWLQPMAPLQVADHTWQIGTEDLTALLVQTAEGAVLLDGGMPQMAGHLLDNMKLRGVAPQDLRLILLSHAHADHAGPVAELKRRTGAHVAANAETAVLLARGGSNDLHFGDGITYPPASADRIIMDGEVVTVGGIAFTAHFMPGHTPGSTAWTWTDTRDGKPVRIAYADSLSAPGYQLKGNPRYPRLIEDYKRSFATVRALPCDLLLTPHPGASNWNYAAGSKASAEALTCNAYADAAEKKFDAQLARETAGTR', 'MQNAHRSDTGAAALTGTPEKLLPTQPETGSFQVVLDDVVRAPGGRPLLDGVNQSVALGERVGIIGENGSGKSTLLRMLAGVDRPDGGQVLVRAPGGCGYLPQTPDLPPEDTVQDAIDHALAELRSLERGLREAEQALAGAEPEELEGLLGAYGDLLEAFEARDGYAADARVDAAMHGLGLAGITGDRRLGSLSGGEQARLNLACLLAASPQLMLLDEPTNHLDVGALEWLEERLRAHRGSVLVVSHDRVFLERVATALWEVDGERRTVNRHGGGYAGYLQAKAAARRRWEQAYQDWLEDLARQRELARSAADHLATGPRRNTERSNQRHQRNVEKQISARVRNAKERVRRLEENPVPRPPQPMRFRARVEGGGTVGRGGALAELYKVTVGTRLDVPSFTVDPGERILITGHNGAGKSTLLRVLAGDLAPDQGECERPERIGWLPQETEITDRQQSLLAAFAAGLPGIAEEHRGALLGFGLFRPSALGTAVGDLSTGQLRRLALARLLRDPADLLLLDEPTNHLSPALVEDLEEALAHYRGALVVVSHDRMFAQRFTGRRMHMEGGRFVE', 'MAGQVVQYGRHRKRRNYARISEVLELPNLIEIQTKSYEWFLREGLIEMFRDISPIEDFTGNLSLEFVDYRLGEPKYDLEESKNRDATYAAPLRVKVRLIIKETGEVKEQEVFMGDFPLMTDTGTFVINGAERVIVSQLVRSPSVYFNEKIDKNGRENYDATIIPNRGAWLEYETDAKDVVYVRIDRTRKLPLTVLLRALGFSSDQEIVDLLGDNEYLRNTLEKDGTENTEQALLEIYERLRPGEPPTVENAKSLLYSRFFDPKRYDLASVGRYKTNKKLHLKHRLFNQKLAEPIVNTETGEIVVEEGTVLDRRKIDEIMDVLESNANSEVFELHGSVIDEPVEIQSIKVYVPNDDEGRTTTVIGNAFPDSEVKCITPADIIASMSYFFNLLSGIGYTDDIDHLGNRRLRSVGELLQNQFRIGLSRMERVVRERMSIQDTESITPQQLINIRPVIASIKEFFGSSQLSQFMDQANPLAELTHKRRLSALGPGGLTRERAQMEVRDVHYSHYGRMCPIETPEGPNIGLINSLSSYARVNEFGFIETPYRKVDLDTHAITDQIDYLTADEEDSYVVAQANSKLDENGRFMDDEVVCRFRGNNTVMAKEKMDYMDVSPKQVVSAATACIPFLENDDSNRALMGANMQRQAVPLMNPEAPFVGTGMEHVAARDSGAAITAKHRGRVEHVESNEILVRRLVEENGVEHEGELDRYPLAKFKRSNSGTCYNQRPIVAVGDVVEYNEILADGPSMELGEMALGRNVVVGFMTWDGYNYEDAVIMSERLVKDDVYTSIHIEEYESEARDTKLGPEEITRDIPNVSESALKNLDDRGIVYIGAEVKDGDILVGKVTPKGVTELTAEERLLHAIFGEKAREVRDTSLRVPHGAGGIVLDVKVFNREEGDDTLSPGVNQLVRVYIVQKRKIHVGDKMCGRHGNKGVISKIVPEEDMPYLPDGRPIDIMLNPLGVPSRMNIGQVLELHLGMAAKNLGIHVASPVFDGANDDDVWSTIEEAGMARDGKTVLYDGRTGEPFDNRISVGVMYMLKLAHMVDDKLHARSTGPYSLVTQQPLGGKAQFGGQRFGEMEVWALEAYGAAYTLQEILTYKSDDTVGRVKTYEAIVKGENISRPSVPESFRVLMKELQSLGLDVKVMDEQDNEIEMTDVDDDDVVEHKVDLQQNDAPETQKEVTD']\n",
      "['SEQ0', 'SEQ1', 'SEQ2', 'SEQ3', 'SEQ4']\n"
     ]
    }
   ],
   "source": [
    "test_X = []\n",
    "test_id = []\n",
    "for index, record in enumerate(SeqIO.parse(DIR_TEST, \"fasta\")):\n",
    "    test_X.append(str(record.seq))\n",
    "    test_id.append(record.id)\n",
    "print(test_X[:5])\n",
    "print(test_id[:5])"
   ]
  },
  {
   "cell_type": "code",
   "execution_count": 18,
   "id": "207fa582",
   "metadata": {
    "execution": {
     "iopub.execute_input": "2023-03-19T14:12:39.010851Z",
     "iopub.status.busy": "2023-03-19T14:12:39.010126Z",
     "iopub.status.idle": "2023-03-19T14:12:44.951915Z",
     "shell.execute_reply": "2023-03-19T14:12:44.950453Z"
    },
    "papermill": {
     "duration": 6.635642,
     "end_time": "2023-03-19T14:12:44.954731",
     "exception": false,
     "start_time": "2023-03-19T14:12:38.319089",
     "status": "completed"
    },
    "tags": []
   },
   "outputs": [],
   "source": [
    "test_X_token = tokenizer(test_X, truncation=True)"
   ]
  },
  {
   "cell_type": "code",
   "execution_count": 19,
   "id": "18bbb86d",
   "metadata": {
    "execution": {
     "iopub.execute_input": "2023-03-19T14:12:46.136352Z",
     "iopub.status.busy": "2023-03-19T14:12:46.135957Z",
     "iopub.status.idle": "2023-03-19T14:12:46.527574Z",
     "shell.execute_reply": "2023-03-19T14:12:46.526552Z"
    },
    "papermill": {
     "duration": 0.960446,
     "end_time": "2023-03-19T14:12:46.530056",
     "exception": false,
     "start_time": "2023-03-19T14:12:45.569610",
     "status": "completed"
    },
    "tags": []
   },
   "outputs": [],
   "source": [
    "test_dataset = Dataset.from_dict(test_X_token)\n",
    "\n",
    "tf_test_set = model.prepare_tf_dataset(\n",
    "    test_dataset,\n",
    "    batch_size=8,\n",
    "    shuffle=False,\n",
    "    tokenizer=tokenizer\n",
    ")"
   ]
  },
  {
   "cell_type": "code",
   "execution_count": 20,
   "id": "32f60d8e",
   "metadata": {
    "execution": {
     "iopub.execute_input": "2023-03-19T14:12:47.718322Z",
     "iopub.status.busy": "2023-03-19T14:12:47.717926Z",
     "iopub.status.idle": "2023-03-19T14:15:35.426705Z",
     "shell.execute_reply": "2023-03-19T14:15:35.425638Z"
    },
    "papermill": {
     "duration": 168.33696,
     "end_time": "2023-03-19T14:15:35.429489",
     "exception": false,
     "start_time": "2023-03-19T14:12:47.092529",
     "status": "completed"
    },
    "tags": []
   },
   "outputs": [
    {
     "name": "stdout",
     "output_type": "stream",
     "text": [
      "559/559 [==============================] - 167s 291ms/step\n"
     ]
    }
   ],
   "source": [
    "test_pred = model.predict(tf_test_set)"
   ]
  },
  {
   "cell_type": "code",
   "execution_count": 21,
   "id": "7db7252d",
   "metadata": {
    "execution": {
     "iopub.execute_input": "2023-03-19T14:15:36.702000Z",
     "iopub.status.busy": "2023-03-19T14:15:36.701604Z",
     "iopub.status.idle": "2023-03-19T14:15:36.712529Z",
     "shell.execute_reply": "2023-03-19T14:15:36.711266Z"
    },
    "papermill": {
     "duration": 0.626879,
     "end_time": "2023-03-19T14:15:36.715318",
     "exception": false,
     "start_time": "2023-03-19T14:15:36.088439",
     "status": "completed"
    },
    "tags": []
   },
   "outputs": [
    {
     "data": {
      "text/plain": [
       "TFSequenceClassifierOutput(loss=None, logits=array([[ 6.5642085 , -0.45424613, -0.17627501, ..., -1.6900734 ,\n",
       "        -0.54871094,  0.4278924 ],\n",
       "       [-0.8514332 , -1.9312547 , -1.7375091 , ..., -3.4121675 ,\n",
       "        -0.7003106 ,  8.489716  ],\n",
       "       [ 0.26391718, -1.4327399 , -1.1234194 , ..., -0.8700567 ,\n",
       "        -1.6571702 , -0.41038987],\n",
       "       ...,\n",
       "       [ 0.18184584, -1.5998174 , -1.2056975 , ..., -0.73529553,\n",
       "        -1.5380272 , -0.5527186 ],\n",
       "       [-1.2070526 , -2.1450577 , -1.2531396 , ..., -3.017218  ,\n",
       "         0.58309746,  7.2840786 ],\n",
       "       [-0.55176646,  0.55046   , -1.4520098 , ..., -0.5998809 ,\n",
       "        -0.08526545, -1.0393775 ]], dtype=float32), hidden_states=None, attentions=None)"
      ]
     },
     "execution_count": 21,
     "metadata": {},
     "output_type": "execute_result"
    }
   ],
   "source": [
    "test_pred"
   ]
  },
  {
   "cell_type": "code",
   "execution_count": 22,
   "id": "64d7802a",
   "metadata": {
    "execution": {
     "iopub.execute_input": "2023-03-19T14:15:38.030711Z",
     "iopub.status.busy": "2023-03-19T14:15:38.030339Z",
     "iopub.status.idle": "2023-03-19T14:15:38.037733Z",
     "shell.execute_reply": "2023-03-19T14:15:38.036662Z"
    },
    "papermill": {
     "duration": 0.676041,
     "end_time": "2023-03-19T14:15:38.039908",
     "exception": false,
     "start_time": "2023-03-19T14:15:37.363867",
     "status": "completed"
    },
    "tags": []
   },
   "outputs": [
    {
     "data": {
      "text/plain": [
       "array([ 0, 14, 11, ..., 11, 14,  9])"
      ]
     },
     "execution_count": 22,
     "metadata": {},
     "output_type": "execute_result"
    }
   ],
   "source": [
    "test_label = np.argmax(test_pred.logits, axis=1)\n",
    "test_label"
   ]
  },
  {
   "cell_type": "code",
   "execution_count": 23,
   "id": "1fea758b",
   "metadata": {
    "execution": {
     "iopub.execute_input": "2023-03-19T14:15:39.217247Z",
     "iopub.status.busy": "2023-03-19T14:15:39.216011Z",
     "iopub.status.idle": "2023-03-19T14:15:39.232412Z",
     "shell.execute_reply": "2023-03-19T14:15:39.231444Z"
    },
    "papermill": {
     "duration": 0.606035,
     "end_time": "2023-03-19T14:15:39.234620",
     "exception": false,
     "start_time": "2023-03-19T14:15:38.628585",
     "status": "completed"
    },
    "tags": []
   },
   "outputs": [],
   "source": [
    "data = {\"id\":test_id, \"label\":test_label}\n",
    "df = pd.DataFrame(data)\n",
    "df.to_csv('submission.csv',index = False)"
   ]
  },
  {
   "cell_type": "code",
   "execution_count": null,
   "id": "ab7a9d20",
   "metadata": {
    "papermill": {
     "duration": 0.65227,
     "end_time": "2023-03-19T14:15:40.478179",
     "exception": false,
     "start_time": "2023-03-19T14:15:39.825909",
     "status": "completed"
    },
    "tags": []
   },
   "outputs": [],
   "source": []
  }
 ],
 "metadata": {
  "kernelspec": {
   "display_name": "Python 3",
   "language": "python",
   "name": "python3"
  },
  "language_info": {
   "codemirror_mode": {
    "name": "ipython",
    "version": 3
   },
   "file_extension": ".py",
   "mimetype": "text/x-python",
   "name": "python",
   "nbconvert_exporter": "python",
   "pygments_lexer": "ipython3",
   "version": "3.7.12"
  },
  "papermill": {
   "default_parameters": {},
   "duration": 8298.913064,
   "end_time": "2023-03-19T14:15:44.234717",
   "environment_variables": {},
   "exception": null,
   "input_path": "__notebook__.ipynb",
   "output_path": "__notebook__.ipynb",
   "parameters": {},
   "start_time": "2023-03-19T11:57:25.321653",
   "version": "2.4.0"
  },
  "widgets": {
   "application/vnd.jupyter.widget-state+json": {
    "state": {
     "02d58464574c4411adb06a57c43baef8": {
      "model_module": "@jupyter-widgets/controls",
      "model_module_version": "1.5.0",
      "model_name": "HTMLModel",
      "state": {
       "_dom_classes": [],
       "_model_module": "@jupyter-widgets/controls",
       "_model_module_version": "1.5.0",
       "_model_name": "HTMLModel",
       "_view_count": null,
       "_view_module": "@jupyter-widgets/controls",
       "_view_module_version": "1.5.0",
       "_view_name": "HTMLView",
       "description": "",
       "description_tooltip": null,
       "layout": "IPY_MODEL_c81b12e0088f4d01bc8e1968924fc745",
       "placeholder": "​",
       "style": "IPY_MODEL_f8146ff08f884eea9f6bea7ca1f85d0b",
       "value": " 95.0/95.0 [00:00&lt;00:00, 3.44kB/s]"
      }
     },
     "07e3e7a2dc554c6c86c1c87efd8c01b3": {
      "model_module": "@jupyter-widgets/controls",
      "model_module_version": "1.5.0",
      "model_name": "FloatProgressModel",
      "state": {
       "_dom_classes": [],
       "_model_module": "@jupyter-widgets/controls",
       "_model_module_version": "1.5.0",
       "_model_name": "FloatProgressModel",
       "_view_count": null,
       "_view_module": "@jupyter-widgets/controls",
       "_view_module_version": "1.5.0",
       "_view_name": "ProgressView",
       "bar_style": "success",
       "description": "",
       "description_tooltip": null,
       "layout": "IPY_MODEL_473d8a818c5648ffac9f8591f1c065b6",
       "max": 125.0,
       "min": 0.0,
       "orientation": "horizontal",
       "style": "IPY_MODEL_20935f8e2d8d4302b11d3b3e586c1aa7",
       "value": 125.0
      }
     },
     "12eb57b344d34ac4a13b8604d0548fd9": {
      "model_module": "@jupyter-widgets/base",
      "model_module_version": "1.2.0",
      "model_name": "LayoutModel",
      "state": {
       "_model_module": "@jupyter-widgets/base",
       "_model_module_version": "1.2.0",
       "_model_name": "LayoutModel",
       "_view_count": null,
       "_view_module": "@jupyter-widgets/base",
       "_view_module_version": "1.2.0",
       "_view_name": "LayoutView",
       "align_content": null,
       "align_items": null,
       "align_self": null,
       "border": null,
       "bottom": null,
       "display": null,
       "flex": null,
       "flex_flow": null,
       "grid_area": null,
       "grid_auto_columns": null,
       "grid_auto_flow": null,
       "grid_auto_rows": null,
       "grid_column": null,
       "grid_gap": null,
       "grid_row": null,
       "grid_template_areas": null,
       "grid_template_columns": null,
       "grid_template_rows": null,
       "height": null,
       "justify_content": null,
       "justify_items": null,
       "left": null,
       "margin": null,
       "max_height": null,
       "max_width": null,
       "min_height": null,
       "min_width": null,
       "object_fit": null,
       "object_position": null,
       "order": null,
       "overflow": null,
       "overflow_x": null,
       "overflow_y": null,
       "padding": null,
       "right": null,
       "top": null,
       "visibility": null,
       "width": null
      }
     },
     "177f000515fc4241b737f7dbba443734": {
      "model_module": "@jupyter-widgets/base",
      "model_module_version": "1.2.0",
      "model_name": "LayoutModel",
      "state": {
       "_model_module": "@jupyter-widgets/base",
       "_model_module_version": "1.2.0",
       "_model_name": "LayoutModel",
       "_view_count": null,
       "_view_module": "@jupyter-widgets/base",
       "_view_module_version": "1.2.0",
       "_view_name": "LayoutView",
       "align_content": null,
       "align_items": null,
       "align_self": null,
       "border": null,
       "bottom": null,
       "display": null,
       "flex": null,
       "flex_flow": null,
       "grid_area": null,
       "grid_auto_columns": null,
       "grid_auto_flow": null,
       "grid_auto_rows": null,
       "grid_column": null,
       "grid_gap": null,
       "grid_row": null,
       "grid_template_areas": null,
       "grid_template_columns": null,
       "grid_template_rows": null,
       "height": null,
       "justify_content": null,
       "justify_items": null,
       "left": null,
       "margin": null,
       "max_height": null,
       "max_width": null,
       "min_height": null,
       "min_width": null,
       "object_fit": null,
       "object_position": null,
       "order": null,
       "overflow": null,
       "overflow_x": null,
       "overflow_y": null,
       "padding": null,
       "right": null,
       "top": null,
       "visibility": null,
       "width": null
      }
     },
     "1c9270ff23b446ba9d009bb440f9139a": {
      "model_module": "@jupyter-widgets/controls",
      "model_module_version": "1.5.0",
      "model_name": "HTMLModel",
      "state": {
       "_dom_classes": [],
       "_model_module": "@jupyter-widgets/controls",
       "_model_module_version": "1.5.0",
       "_model_name": "HTMLModel",
       "_view_count": null,
       "_view_module": "@jupyter-widgets/controls",
       "_view_module_version": "1.5.0",
       "_view_name": "HTMLView",
       "description": "",
       "description_tooltip": null,
       "layout": "IPY_MODEL_6da7f98838ff4394925d39bb74f119c5",
       "placeholder": "​",
       "style": "IPY_MODEL_518f14c2f5ec4d6a9ecb83c4f0a9b61d",
       "value": " 125/125 [00:00&lt;00:00, 5.79kB/s]"
      }
     },
     "20935f8e2d8d4302b11d3b3e586c1aa7": {
      "model_module": "@jupyter-widgets/controls",
      "model_module_version": "1.5.0",
      "model_name": "ProgressStyleModel",
      "state": {
       "_model_module": "@jupyter-widgets/controls",
       "_model_module_version": "1.5.0",
       "_model_name": "ProgressStyleModel",
       "_view_count": null,
       "_view_module": "@jupyter-widgets/base",
       "_view_module_version": "1.2.0",
       "_view_name": "StyleView",
       "bar_color": null,
       "description_width": ""
      }
     },
     "243382022a284971bc62fee22524e706": {
      "model_module": "@jupyter-widgets/controls",
      "model_module_version": "1.5.0",
      "model_name": "HBoxModel",
      "state": {
       "_dom_classes": [],
       "_model_module": "@jupyter-widgets/controls",
       "_model_module_version": "1.5.0",
       "_model_name": "HBoxModel",
       "_view_count": null,
       "_view_module": "@jupyter-widgets/controls",
       "_view_module_version": "1.5.0",
       "_view_name": "HBoxView",
       "box_style": "",
       "children": [
        "IPY_MODEL_753af2a7709047f09bd219135c26a8da",
        "IPY_MODEL_07e3e7a2dc554c6c86c1c87efd8c01b3",
        "IPY_MODEL_1c9270ff23b446ba9d009bb440f9139a"
       ],
       "layout": "IPY_MODEL_12eb57b344d34ac4a13b8604d0548fd9"
      }
     },
     "3bdcf8fac7c14f99b858f7d5f749fb26": {
      "model_module": "@jupyter-widgets/controls",
      "model_module_version": "1.5.0",
      "model_name": "DescriptionStyleModel",
      "state": {
       "_model_module": "@jupyter-widgets/controls",
       "_model_module_version": "1.5.0",
       "_model_name": "DescriptionStyleModel",
       "_view_count": null,
       "_view_module": "@jupyter-widgets/base",
       "_view_module_version": "1.2.0",
       "_view_name": "StyleView",
       "description_width": ""
      }
     },
     "3bddc874ec9d45ff9bcef9f329db1506": {
      "model_module": "@jupyter-widgets/base",
      "model_module_version": "1.2.0",
      "model_name": "LayoutModel",
      "state": {
       "_model_module": "@jupyter-widgets/base",
       "_model_module_version": "1.2.0",
       "_model_name": "LayoutModel",
       "_view_count": null,
       "_view_module": "@jupyter-widgets/base",
       "_view_module_version": "1.2.0",
       "_view_name": "LayoutView",
       "align_content": null,
       "align_items": null,
       "align_self": null,
       "border": null,
       "bottom": null,
       "display": null,
       "flex": null,
       "flex_flow": null,
       "grid_area": null,
       "grid_auto_columns": null,
       "grid_auto_flow": null,
       "grid_auto_rows": null,
       "grid_column": null,
       "grid_gap": null,
       "grid_row": null,
       "grid_template_areas": null,
       "grid_template_columns": null,
       "grid_template_rows": null,
       "height": null,
       "justify_content": null,
       "justify_items": null,
       "left": null,
       "margin": null,
       "max_height": null,
       "max_width": null,
       "min_height": null,
       "min_width": null,
       "object_fit": null,
       "object_position": null,
       "order": null,
       "overflow": null,
       "overflow_x": null,
       "overflow_y": null,
       "padding": null,
       "right": null,
       "top": null,
       "visibility": null,
       "width": null
      }
     },
     "3f0066d7981640dba5192e9bf495ce9b": {
      "model_module": "@jupyter-widgets/controls",
      "model_module_version": "1.5.0",
      "model_name": "HBoxModel",
      "state": {
       "_dom_classes": [],
       "_model_module": "@jupyter-widgets/controls",
       "_model_module_version": "1.5.0",
       "_model_name": "HBoxModel",
       "_view_count": null,
       "_view_module": "@jupyter-widgets/controls",
       "_view_module_version": "1.5.0",
       "_view_name": "HBoxView",
       "box_style": "",
       "children": [
        "IPY_MODEL_b8ea5d47a4e4441197f75b870323954f",
        "IPY_MODEL_9ed0dbcecaac404aa6f8246376d16297",
        "IPY_MODEL_d7d60df0e6aa433683a6af81ccdcc154"
       ],
       "layout": "IPY_MODEL_fc679f670afe4890b858414377627a18"
      }
     },
     "4045b55ffcd74a67940f1e362a8e9243": {
      "model_module": "@jupyter-widgets/controls",
      "model_module_version": "1.5.0",
      "model_name": "HBoxModel",
      "state": {
       "_dom_classes": [],
       "_model_module": "@jupyter-widgets/controls",
       "_model_module_version": "1.5.0",
       "_model_name": "HBoxModel",
       "_view_count": null,
       "_view_module": "@jupyter-widgets/controls",
       "_view_module_version": "1.5.0",
       "_view_name": "HBoxView",
       "box_style": "",
       "children": [
        "IPY_MODEL_dd539030a43944038858c13b9d01be86",
        "IPY_MODEL_4ec025f2e1bb44d8bf572d69ebb8056f",
        "IPY_MODEL_bf6742d3d1af49368ef93a3df3d0afb7"
       ],
       "layout": "IPY_MODEL_9d11cad167a146d1aa4a45e3e487631c"
      }
     },
     "406bc3eff5404c47a0b6e25bd2be7c37": {
      "model_module": "@jupyter-widgets/base",
      "model_module_version": "1.2.0",
      "model_name": "LayoutModel",
      "state": {
       "_model_module": "@jupyter-widgets/base",
       "_model_module_version": "1.2.0",
       "_model_name": "LayoutModel",
       "_view_count": null,
       "_view_module": "@jupyter-widgets/base",
       "_view_module_version": "1.2.0",
       "_view_name": "LayoutView",
       "align_content": null,
       "align_items": null,
       "align_self": null,
       "border": null,
       "bottom": null,
       "display": null,
       "flex": null,
       "flex_flow": null,
       "grid_area": null,
       "grid_auto_columns": null,
       "grid_auto_flow": null,
       "grid_auto_rows": null,
       "grid_column": null,
       "grid_gap": null,
       "grid_row": null,
       "grid_template_areas": null,
       "grid_template_columns": null,
       "grid_template_rows": null,
       "height": null,
       "justify_content": null,
       "justify_items": null,
       "left": null,
       "margin": null,
       "max_height": null,
       "max_width": null,
       "min_height": null,
       "min_width": null,
       "object_fit": null,
       "object_position": null,
       "order": null,
       "overflow": null,
       "overflow_x": null,
       "overflow_y": null,
       "padding": null,
       "right": null,
       "top": null,
       "visibility": null,
       "width": null
      }
     },
     "4219473e08b749bca339b84254623178": {
      "model_module": "@jupyter-widgets/base",
      "model_module_version": "1.2.0",
      "model_name": "LayoutModel",
      "state": {
       "_model_module": "@jupyter-widgets/base",
       "_model_module_version": "1.2.0",
       "_model_name": "LayoutModel",
       "_view_count": null,
       "_view_module": "@jupyter-widgets/base",
       "_view_module_version": "1.2.0",
       "_view_name": "LayoutView",
       "align_content": null,
       "align_items": null,
       "align_self": null,
       "border": null,
       "bottom": null,
       "display": null,
       "flex": null,
       "flex_flow": null,
       "grid_area": null,
       "grid_auto_columns": null,
       "grid_auto_flow": null,
       "grid_auto_rows": null,
       "grid_column": null,
       "grid_gap": null,
       "grid_row": null,
       "grid_template_areas": null,
       "grid_template_columns": null,
       "grid_template_rows": null,
       "height": null,
       "justify_content": null,
       "justify_items": null,
       "left": null,
       "margin": null,
       "max_height": null,
       "max_width": null,
       "min_height": null,
       "min_width": null,
       "object_fit": null,
       "object_position": null,
       "order": null,
       "overflow": null,
       "overflow_x": null,
       "overflow_y": null,
       "padding": null,
       "right": null,
       "top": null,
       "visibility": null,
       "width": null
      }
     },
     "471363183e9c433bba22279fc3bbea71": {
      "model_module": "@jupyter-widgets/base",
      "model_module_version": "1.2.0",
      "model_name": "LayoutModel",
      "state": {
       "_model_module": "@jupyter-widgets/base",
       "_model_module_version": "1.2.0",
       "_model_name": "LayoutModel",
       "_view_count": null,
       "_view_module": "@jupyter-widgets/base",
       "_view_module_version": "1.2.0",
       "_view_name": "LayoutView",
       "align_content": null,
       "align_items": null,
       "align_self": null,
       "border": null,
       "bottom": null,
       "display": null,
       "flex": null,
       "flex_flow": null,
       "grid_area": null,
       "grid_auto_columns": null,
       "grid_auto_flow": null,
       "grid_auto_rows": null,
       "grid_column": null,
       "grid_gap": null,
       "grid_row": null,
       "grid_template_areas": null,
       "grid_template_columns": null,
       "grid_template_rows": null,
       "height": null,
       "justify_content": null,
       "justify_items": null,
       "left": null,
       "margin": null,
       "max_height": null,
       "max_width": null,
       "min_height": null,
       "min_width": null,
       "object_fit": null,
       "object_position": null,
       "order": null,
       "overflow": null,
       "overflow_x": null,
       "overflow_y": null,
       "padding": null,
       "right": null,
       "top": null,
       "visibility": null,
       "width": null
      }
     },
     "473d8a818c5648ffac9f8591f1c065b6": {
      "model_module": "@jupyter-widgets/base",
      "model_module_version": "1.2.0",
      "model_name": "LayoutModel",
      "state": {
       "_model_module": "@jupyter-widgets/base",
       "_model_module_version": "1.2.0",
       "_model_name": "LayoutModel",
       "_view_count": null,
       "_view_module": "@jupyter-widgets/base",
       "_view_module_version": "1.2.0",
       "_view_name": "LayoutView",
       "align_content": null,
       "align_items": null,
       "align_self": null,
       "border": null,
       "bottom": null,
       "display": null,
       "flex": null,
       "flex_flow": null,
       "grid_area": null,
       "grid_auto_columns": null,
       "grid_auto_flow": null,
       "grid_auto_rows": null,
       "grid_column": null,
       "grid_gap": null,
       "grid_row": null,
       "grid_template_areas": null,
       "grid_template_columns": null,
       "grid_template_rows": null,
       "height": null,
       "justify_content": null,
       "justify_items": null,
       "left": null,
       "margin": null,
       "max_height": null,
       "max_width": null,
       "min_height": null,
       "min_width": null,
       "object_fit": null,
       "object_position": null,
       "order": null,
       "overflow": null,
       "overflow_x": null,
       "overflow_y": null,
       "padding": null,
       "right": null,
       "top": null,
       "visibility": null,
       "width": null
      }
     },
     "480cdf81194d47babc40d68cae53def6": {
      "model_module": "@jupyter-widgets/controls",
      "model_module_version": "1.5.0",
      "model_name": "HTMLModel",
      "state": {
       "_dom_classes": [],
       "_model_module": "@jupyter-widgets/controls",
       "_model_module_version": "1.5.0",
       "_model_name": "HTMLModel",
       "_view_count": null,
       "_view_module": "@jupyter-widgets/controls",
       "_view_module_version": "1.5.0",
       "_view_name": "HTMLView",
       "description": "",
       "description_tooltip": null,
       "layout": "IPY_MODEL_3bddc874ec9d45ff9bcef9f329db1506",
       "placeholder": "​",
       "style": "IPY_MODEL_a77121cef92c485f8378e3c8207850bd",
       "value": "Downloading (…)okenizer_config.json: 100%"
      }
     },
     "4dab4c2d546a4ea3aba24eacbe05a3ed": {
      "model_module": "@jupyter-widgets/controls",
      "model_module_version": "1.5.0",
      "model_name": "DescriptionStyleModel",
      "state": {
       "_model_module": "@jupyter-widgets/controls",
       "_model_module_version": "1.5.0",
       "_model_name": "DescriptionStyleModel",
       "_view_count": null,
       "_view_module": "@jupyter-widgets/base",
       "_view_module_version": "1.2.0",
       "_view_name": "StyleView",
       "description_width": ""
      }
     },
     "4ec025f2e1bb44d8bf572d69ebb8056f": {
      "model_module": "@jupyter-widgets/controls",
      "model_module_version": "1.5.0",
      "model_name": "FloatProgressModel",
      "state": {
       "_dom_classes": [],
       "_model_module": "@jupyter-widgets/controls",
       "_model_module_version": "1.5.0",
       "_model_name": "FloatProgressModel",
       "_view_count": null,
       "_view_module": "@jupyter-widgets/controls",
       "_view_module_version": "1.5.0",
       "_view_name": "ProgressView",
       "bar_style": "success",
       "description": "",
       "description_tooltip": null,
       "layout": "IPY_MODEL_8141f926e08744d8b572c8c233731461",
       "max": 134360208.0,
       "min": 0.0,
       "orientation": "horizontal",
       "style": "IPY_MODEL_edf9a03462384e3c8472f10bfb44bd33",
       "value": 134360208.0
      }
     },
     "4fb955627e714cdd92164b0711b32251": {
      "model_module": "@jupyter-widgets/base",
      "model_module_version": "1.2.0",
      "model_name": "LayoutModel",
      "state": {
       "_model_module": "@jupyter-widgets/base",
       "_model_module_version": "1.2.0",
       "_model_name": "LayoutModel",
       "_view_count": null,
       "_view_module": "@jupyter-widgets/base",
       "_view_module_version": "1.2.0",
       "_view_name": "LayoutView",
       "align_content": null,
       "align_items": null,
       "align_self": null,
       "border": null,
       "bottom": null,
       "display": null,
       "flex": null,
       "flex_flow": null,
       "grid_area": null,
       "grid_auto_columns": null,
       "grid_auto_flow": null,
       "grid_auto_rows": null,
       "grid_column": null,
       "grid_gap": null,
       "grid_row": null,
       "grid_template_areas": null,
       "grid_template_columns": null,
       "grid_template_rows": null,
       "height": null,
       "justify_content": null,
       "justify_items": null,
       "left": null,
       "margin": null,
       "max_height": null,
       "max_width": null,
       "min_height": null,
       "min_width": null,
       "object_fit": null,
       "object_position": null,
       "order": null,
       "overflow": null,
       "overflow_x": null,
       "overflow_y": null,
       "padding": null,
       "right": null,
       "top": null,
       "visibility": null,
       "width": null
      }
     },
     "518f14c2f5ec4d6a9ecb83c4f0a9b61d": {
      "model_module": "@jupyter-widgets/controls",
      "model_module_version": "1.5.0",
      "model_name": "DescriptionStyleModel",
      "state": {
       "_model_module": "@jupyter-widgets/controls",
       "_model_module_version": "1.5.0",
       "_model_name": "DescriptionStyleModel",
       "_view_count": null,
       "_view_module": "@jupyter-widgets/base",
       "_view_module_version": "1.2.0",
       "_view_name": "StyleView",
       "description_width": ""
      }
     },
     "53387c6bdc604f7a9481f96e2c7b4b84": {
      "model_module": "@jupyter-widgets/controls",
      "model_module_version": "1.5.0",
      "model_name": "HTMLModel",
      "state": {
       "_dom_classes": [],
       "_model_module": "@jupyter-widgets/controls",
       "_model_module_version": "1.5.0",
       "_model_name": "HTMLModel",
       "_view_count": null,
       "_view_module": "@jupyter-widgets/controls",
       "_view_module_version": "1.5.0",
       "_view_name": "HTMLView",
       "description": "",
       "description_tooltip": null,
       "layout": "IPY_MODEL_177f000515fc4241b737f7dbba443734",
       "placeholder": "​",
       "style": "IPY_MODEL_7f7be57a949f486492fa16fd6d20eebe",
       "value": "Downloading (…)lve/main/config.json: 100%"
      }
     },
     "5b046f6df6604bc38fa485761f3183af": {
      "model_module": "@jupyter-widgets/base",
      "model_module_version": "1.2.0",
      "model_name": "LayoutModel",
      "state": {
       "_model_module": "@jupyter-widgets/base",
       "_model_module_version": "1.2.0",
       "_model_name": "LayoutModel",
       "_view_count": null,
       "_view_module": "@jupyter-widgets/base",
       "_view_module_version": "1.2.0",
       "_view_name": "LayoutView",
       "align_content": null,
       "align_items": null,
       "align_self": null,
       "border": null,
       "bottom": null,
       "display": null,
       "flex": null,
       "flex_flow": null,
       "grid_area": null,
       "grid_auto_columns": null,
       "grid_auto_flow": null,
       "grid_auto_rows": null,
       "grid_column": null,
       "grid_gap": null,
       "grid_row": null,
       "grid_template_areas": null,
       "grid_template_columns": null,
       "grid_template_rows": null,
       "height": null,
       "justify_content": null,
       "justify_items": null,
       "left": null,
       "margin": null,
       "max_height": null,
       "max_width": null,
       "min_height": null,
       "min_width": null,
       "object_fit": null,
       "object_position": null,
       "order": null,
       "overflow": null,
       "overflow_x": null,
       "overflow_y": null,
       "padding": null,
       "right": null,
       "top": null,
       "visibility": null,
       "width": null
      }
     },
     "5b9d38e9b6324aa595bc49178394e19b": {
      "model_module": "@jupyter-widgets/controls",
      "model_module_version": "1.5.0",
      "model_name": "ProgressStyleModel",
      "state": {
       "_model_module": "@jupyter-widgets/controls",
       "_model_module_version": "1.5.0",
       "_model_name": "ProgressStyleModel",
       "_view_count": null,
       "_view_module": "@jupyter-widgets/base",
       "_view_module_version": "1.2.0",
       "_view_name": "StyleView",
       "bar_color": null,
       "description_width": ""
      }
     },
     "5c9b6b0a3bdb40e1ad308e7a6099a945": {
      "model_module": "@jupyter-widgets/base",
      "model_module_version": "1.2.0",
      "model_name": "LayoutModel",
      "state": {
       "_model_module": "@jupyter-widgets/base",
       "_model_module_version": "1.2.0",
       "_model_name": "LayoutModel",
       "_view_count": null,
       "_view_module": "@jupyter-widgets/base",
       "_view_module_version": "1.2.0",
       "_view_name": "LayoutView",
       "align_content": null,
       "align_items": null,
       "align_self": null,
       "border": null,
       "bottom": null,
       "display": null,
       "flex": null,
       "flex_flow": null,
       "grid_area": null,
       "grid_auto_columns": null,
       "grid_auto_flow": null,
       "grid_auto_rows": null,
       "grid_column": null,
       "grid_gap": null,
       "grid_row": null,
       "grid_template_areas": null,
       "grid_template_columns": null,
       "grid_template_rows": null,
       "height": null,
       "justify_content": null,
       "justify_items": null,
       "left": null,
       "margin": null,
       "max_height": null,
       "max_width": null,
       "min_height": null,
       "min_width": null,
       "object_fit": null,
       "object_position": null,
       "order": null,
       "overflow": null,
       "overflow_x": null,
       "overflow_y": null,
       "padding": null,
       "right": null,
       "top": null,
       "visibility": null,
       "width": null
      }
     },
     "67af854e51b0443f9bb79adbf90fc75e": {
      "model_module": "@jupyter-widgets/controls",
      "model_module_version": "1.5.0",
      "model_name": "HBoxModel",
      "state": {
       "_dom_classes": [],
       "_model_module": "@jupyter-widgets/controls",
       "_model_module_version": "1.5.0",
       "_model_name": "HBoxModel",
       "_view_count": null,
       "_view_module": "@jupyter-widgets/controls",
       "_view_module_version": "1.5.0",
       "_view_name": "HBoxView",
       "box_style": "",
       "children": [
        "IPY_MODEL_480cdf81194d47babc40d68cae53def6",
        "IPY_MODEL_6ea18d9db5e04d1ba7ae1282139554d5",
        "IPY_MODEL_02d58464574c4411adb06a57c43baef8"
       ],
       "layout": "IPY_MODEL_a7ac5e2439cf4689ae7ae1a487790db6"
      }
     },
     "6da7f98838ff4394925d39bb74f119c5": {
      "model_module": "@jupyter-widgets/base",
      "model_module_version": "1.2.0",
      "model_name": "LayoutModel",
      "state": {
       "_model_module": "@jupyter-widgets/base",
       "_model_module_version": "1.2.0",
       "_model_name": "LayoutModel",
       "_view_count": null,
       "_view_module": "@jupyter-widgets/base",
       "_view_module_version": "1.2.0",
       "_view_name": "LayoutView",
       "align_content": null,
       "align_items": null,
       "align_self": null,
       "border": null,
       "bottom": null,
       "display": null,
       "flex": null,
       "flex_flow": null,
       "grid_area": null,
       "grid_auto_columns": null,
       "grid_auto_flow": null,
       "grid_auto_rows": null,
       "grid_column": null,
       "grid_gap": null,
       "grid_row": null,
       "grid_template_areas": null,
       "grid_template_columns": null,
       "grid_template_rows": null,
       "height": null,
       "justify_content": null,
       "justify_items": null,
       "left": null,
       "margin": null,
       "max_height": null,
       "max_width": null,
       "min_height": null,
       "min_width": null,
       "object_fit": null,
       "object_position": null,
       "order": null,
       "overflow": null,
       "overflow_x": null,
       "overflow_y": null,
       "padding": null,
       "right": null,
       "top": null,
       "visibility": null,
       "width": null
      }
     },
     "6ea18d9db5e04d1ba7ae1282139554d5": {
      "model_module": "@jupyter-widgets/controls",
      "model_module_version": "1.5.0",
      "model_name": "FloatProgressModel",
      "state": {
       "_dom_classes": [],
       "_model_module": "@jupyter-widgets/controls",
       "_model_module_version": "1.5.0",
       "_model_name": "FloatProgressModel",
       "_view_count": null,
       "_view_module": "@jupyter-widgets/controls",
       "_view_module_version": "1.5.0",
       "_view_name": "ProgressView",
       "bar_style": "success",
       "description": "",
       "description_tooltip": null,
       "layout": "IPY_MODEL_4fb955627e714cdd92164b0711b32251",
       "max": 95.0,
       "min": 0.0,
       "orientation": "horizontal",
       "style": "IPY_MODEL_5b9d38e9b6324aa595bc49178394e19b",
       "value": 95.0
      }
     },
     "753af2a7709047f09bd219135c26a8da": {
      "model_module": "@jupyter-widgets/controls",
      "model_module_version": "1.5.0",
      "model_name": "HTMLModel",
      "state": {
       "_dom_classes": [],
       "_model_module": "@jupyter-widgets/controls",
       "_model_module_version": "1.5.0",
       "_model_name": "HTMLModel",
       "_view_count": null,
       "_view_module": "@jupyter-widgets/controls",
       "_view_module_version": "1.5.0",
       "_view_name": "HTMLView",
       "description": "",
       "description_tooltip": null,
       "layout": "IPY_MODEL_cfb87cf44d354dbfaf61a77dbdca1b48",
       "placeholder": "​",
       "style": "IPY_MODEL_84e4780bfdd24195997938a112c6432e",
       "value": "Downloading (…)cial_tokens_map.json: 100%"
      }
     },
     "7f7be57a949f486492fa16fd6d20eebe": {
      "model_module": "@jupyter-widgets/controls",
      "model_module_version": "1.5.0",
      "model_name": "DescriptionStyleModel",
      "state": {
       "_model_module": "@jupyter-widgets/controls",
       "_model_module_version": "1.5.0",
       "_model_name": "DescriptionStyleModel",
       "_view_count": null,
       "_view_module": "@jupyter-widgets/base",
       "_view_module_version": "1.2.0",
       "_view_name": "StyleView",
       "description_width": ""
      }
     },
     "8141f926e08744d8b572c8c233731461": {
      "model_module": "@jupyter-widgets/base",
      "model_module_version": "1.2.0",
      "model_name": "LayoutModel",
      "state": {
       "_model_module": "@jupyter-widgets/base",
       "_model_module_version": "1.2.0",
       "_model_name": "LayoutModel",
       "_view_count": null,
       "_view_module": "@jupyter-widgets/base",
       "_view_module_version": "1.2.0",
       "_view_name": "LayoutView",
       "align_content": null,
       "align_items": null,
       "align_self": null,
       "border": null,
       "bottom": null,
       "display": null,
       "flex": null,
       "flex_flow": null,
       "grid_area": null,
       "grid_auto_columns": null,
       "grid_auto_flow": null,
       "grid_auto_rows": null,
       "grid_column": null,
       "grid_gap": null,
       "grid_row": null,
       "grid_template_areas": null,
       "grid_template_columns": null,
       "grid_template_rows": null,
       "height": null,
       "justify_content": null,
       "justify_items": null,
       "left": null,
       "margin": null,
       "max_height": null,
       "max_width": null,
       "min_height": null,
       "min_width": null,
       "object_fit": null,
       "object_position": null,
       "order": null,
       "overflow": null,
       "overflow_x": null,
       "overflow_y": null,
       "padding": null,
       "right": null,
       "top": null,
       "visibility": null,
       "width": null
      }
     },
     "84e4780bfdd24195997938a112c6432e": {
      "model_module": "@jupyter-widgets/controls",
      "model_module_version": "1.5.0",
      "model_name": "DescriptionStyleModel",
      "state": {
       "_model_module": "@jupyter-widgets/controls",
       "_model_module_version": "1.5.0",
       "_model_name": "DescriptionStyleModel",
       "_view_count": null,
       "_view_module": "@jupyter-widgets/base",
       "_view_module_version": "1.2.0",
       "_view_name": "StyleView",
       "description_width": ""
      }
     },
     "9d11cad167a146d1aa4a45e3e487631c": {
      "model_module": "@jupyter-widgets/base",
      "model_module_version": "1.2.0",
      "model_name": "LayoutModel",
      "state": {
       "_model_module": "@jupyter-widgets/base",
       "_model_module_version": "1.2.0",
       "_model_name": "LayoutModel",
       "_view_count": null,
       "_view_module": "@jupyter-widgets/base",
       "_view_module_version": "1.2.0",
       "_view_name": "LayoutView",
       "align_content": null,
       "align_items": null,
       "align_self": null,
       "border": null,
       "bottom": null,
       "display": null,
       "flex": null,
       "flex_flow": null,
       "grid_area": null,
       "grid_auto_columns": null,
       "grid_auto_flow": null,
       "grid_auto_rows": null,
       "grid_column": null,
       "grid_gap": null,
       "grid_row": null,
       "grid_template_areas": null,
       "grid_template_columns": null,
       "grid_template_rows": null,
       "height": null,
       "justify_content": null,
       "justify_items": null,
       "left": null,
       "margin": null,
       "max_height": null,
       "max_width": null,
       "min_height": null,
       "min_width": null,
       "object_fit": null,
       "object_position": null,
       "order": null,
       "overflow": null,
       "overflow_x": null,
       "overflow_y": null,
       "padding": null,
       "right": null,
       "top": null,
       "visibility": null,
       "width": null
      }
     },
     "9ed0dbcecaac404aa6f8246376d16297": {
      "model_module": "@jupyter-widgets/controls",
      "model_module_version": "1.5.0",
      "model_name": "FloatProgressModel",
      "state": {
       "_dom_classes": [],
       "_model_module": "@jupyter-widgets/controls",
       "_model_module_version": "1.5.0",
       "_model_name": "FloatProgressModel",
       "_view_count": null,
       "_view_module": "@jupyter-widgets/controls",
       "_view_module_version": "1.5.0",
       "_view_name": "ProgressView",
       "bar_style": "success",
       "description": "",
       "description_tooltip": null,
       "layout": "IPY_MODEL_4219473e08b749bca339b84254623178",
       "max": 93.0,
       "min": 0.0,
       "orientation": "horizontal",
       "style": "IPY_MODEL_bbd34443a61f42909377a5b89e63b830",
       "value": 93.0
      }
     },
     "a38907445d4f4fb1906d081e03b880f7": {
      "model_module": "@jupyter-widgets/base",
      "model_module_version": "1.2.0",
      "model_name": "LayoutModel",
      "state": {
       "_model_module": "@jupyter-widgets/base",
       "_model_module_version": "1.2.0",
       "_model_name": "LayoutModel",
       "_view_count": null,
       "_view_module": "@jupyter-widgets/base",
       "_view_module_version": "1.2.0",
       "_view_name": "LayoutView",
       "align_content": null,
       "align_items": null,
       "align_self": null,
       "border": null,
       "bottom": null,
       "display": null,
       "flex": null,
       "flex_flow": null,
       "grid_area": null,
       "grid_auto_columns": null,
       "grid_auto_flow": null,
       "grid_auto_rows": null,
       "grid_column": null,
       "grid_gap": null,
       "grid_row": null,
       "grid_template_areas": null,
       "grid_template_columns": null,
       "grid_template_rows": null,
       "height": null,
       "justify_content": null,
       "justify_items": null,
       "left": null,
       "margin": null,
       "max_height": null,
       "max_width": null,
       "min_height": null,
       "min_width": null,
       "object_fit": null,
       "object_position": null,
       "order": null,
       "overflow": null,
       "overflow_x": null,
       "overflow_y": null,
       "padding": null,
       "right": null,
       "top": null,
       "visibility": null,
       "width": null
      }
     },
     "a496f985ca2d4221bcb4e53ef9d06246": {
      "model_module": "@jupyter-widgets/base",
      "model_module_version": "1.2.0",
      "model_name": "LayoutModel",
      "state": {
       "_model_module": "@jupyter-widgets/base",
       "_model_module_version": "1.2.0",
       "_model_name": "LayoutModel",
       "_view_count": null,
       "_view_module": "@jupyter-widgets/base",
       "_view_module_version": "1.2.0",
       "_view_name": "LayoutView",
       "align_content": null,
       "align_items": null,
       "align_self": null,
       "border": null,
       "bottom": null,
       "display": null,
       "flex": null,
       "flex_flow": null,
       "grid_area": null,
       "grid_auto_columns": null,
       "grid_auto_flow": null,
       "grid_auto_rows": null,
       "grid_column": null,
       "grid_gap": null,
       "grid_row": null,
       "grid_template_areas": null,
       "grid_template_columns": null,
       "grid_template_rows": null,
       "height": null,
       "justify_content": null,
       "justify_items": null,
       "left": null,
       "margin": null,
       "max_height": null,
       "max_width": null,
       "min_height": null,
       "min_width": null,
       "object_fit": null,
       "object_position": null,
       "order": null,
       "overflow": null,
       "overflow_x": null,
       "overflow_y": null,
       "padding": null,
       "right": null,
       "top": null,
       "visibility": null,
       "width": null
      }
     },
     "a77121cef92c485f8378e3c8207850bd": {
      "model_module": "@jupyter-widgets/controls",
      "model_module_version": "1.5.0",
      "model_name": "DescriptionStyleModel",
      "state": {
       "_model_module": "@jupyter-widgets/controls",
       "_model_module_version": "1.5.0",
       "_model_name": "DescriptionStyleModel",
       "_view_count": null,
       "_view_module": "@jupyter-widgets/base",
       "_view_module_version": "1.2.0",
       "_view_name": "StyleView",
       "description_width": ""
      }
     },
     "a7ac5e2439cf4689ae7ae1a487790db6": {
      "model_module": "@jupyter-widgets/base",
      "model_module_version": "1.2.0",
      "model_name": "LayoutModel",
      "state": {
       "_model_module": "@jupyter-widgets/base",
       "_model_module_version": "1.2.0",
       "_model_name": "LayoutModel",
       "_view_count": null,
       "_view_module": "@jupyter-widgets/base",
       "_view_module_version": "1.2.0",
       "_view_name": "LayoutView",
       "align_content": null,
       "align_items": null,
       "align_self": null,
       "border": null,
       "bottom": null,
       "display": null,
       "flex": null,
       "flex_flow": null,
       "grid_area": null,
       "grid_auto_columns": null,
       "grid_auto_flow": null,
       "grid_auto_rows": null,
       "grid_column": null,
       "grid_gap": null,
       "grid_row": null,
       "grid_template_areas": null,
       "grid_template_columns": null,
       "grid_template_rows": null,
       "height": null,
       "justify_content": null,
       "justify_items": null,
       "left": null,
       "margin": null,
       "max_height": null,
       "max_width": null,
       "min_height": null,
       "min_width": null,
       "object_fit": null,
       "object_position": null,
       "order": null,
       "overflow": null,
       "overflow_x": null,
       "overflow_y": null,
       "padding": null,
       "right": null,
       "top": null,
       "visibility": null,
       "width": null
      }
     },
     "b4cdda3612184a4d81e2395c153bd2f9": {
      "model_module": "@jupyter-widgets/controls",
      "model_module_version": "1.5.0",
      "model_name": "DescriptionStyleModel",
      "state": {
       "_model_module": "@jupyter-widgets/controls",
       "_model_module_version": "1.5.0",
       "_model_name": "DescriptionStyleModel",
       "_view_count": null,
       "_view_module": "@jupyter-widgets/base",
       "_view_module_version": "1.2.0",
       "_view_name": "StyleView",
       "description_width": ""
      }
     },
     "b568cf5996674d8dbd4994f826363e32": {
      "model_module": "@jupyter-widgets/controls",
      "model_module_version": "1.5.0",
      "model_name": "DescriptionStyleModel",
      "state": {
       "_model_module": "@jupyter-widgets/controls",
       "_model_module_version": "1.5.0",
       "_model_name": "DescriptionStyleModel",
       "_view_count": null,
       "_view_module": "@jupyter-widgets/base",
       "_view_module_version": "1.2.0",
       "_view_name": "StyleView",
       "description_width": ""
      }
     },
     "b8ea5d47a4e4441197f75b870323954f": {
      "model_module": "@jupyter-widgets/controls",
      "model_module_version": "1.5.0",
      "model_name": "HTMLModel",
      "state": {
       "_dom_classes": [],
       "_model_module": "@jupyter-widgets/controls",
       "_model_module_version": "1.5.0",
       "_model_name": "HTMLModel",
       "_view_count": null,
       "_view_module": "@jupyter-widgets/controls",
       "_view_module_version": "1.5.0",
       "_view_name": "HTMLView",
       "description": "",
       "description_tooltip": null,
       "layout": "IPY_MODEL_f3fc8ae8042c41918193eabca480098b",
       "placeholder": "​",
       "style": "IPY_MODEL_b4cdda3612184a4d81e2395c153bd2f9",
       "value": "Downloading (…)solve/main/vocab.txt: 100%"
      }
     },
     "bbd34443a61f42909377a5b89e63b830": {
      "model_module": "@jupyter-widgets/controls",
      "model_module_version": "1.5.0",
      "model_name": "ProgressStyleModel",
      "state": {
       "_model_module": "@jupyter-widgets/controls",
       "_model_module_version": "1.5.0",
       "_model_name": "ProgressStyleModel",
       "_view_count": null,
       "_view_module": "@jupyter-widgets/base",
       "_view_module_version": "1.2.0",
       "_view_name": "StyleView",
       "bar_color": null,
       "description_width": ""
      }
     },
     "bf6742d3d1af49368ef93a3df3d0afb7": {
      "model_module": "@jupyter-widgets/controls",
      "model_module_version": "1.5.0",
      "model_name": "HTMLModel",
      "state": {
       "_dom_classes": [],
       "_model_module": "@jupyter-widgets/controls",
       "_model_module_version": "1.5.0",
       "_model_name": "HTMLModel",
       "_view_count": null,
       "_view_module": "@jupyter-widgets/controls",
       "_view_module_version": "1.5.0",
       "_view_name": "HTMLView",
       "description": "",
       "description_tooltip": null,
       "layout": "IPY_MODEL_a38907445d4f4fb1906d081e03b880f7",
       "placeholder": "​",
       "style": "IPY_MODEL_4dab4c2d546a4ea3aba24eacbe05a3ed",
       "value": " 134M/134M [00:03&lt;00:00, 44.6MB/s]"
      }
     },
     "c5086ccff09043eeb86886d8f5333f37": {
      "model_module": "@jupyter-widgets/controls",
      "model_module_version": "1.5.0",
      "model_name": "DescriptionStyleModel",
      "state": {
       "_model_module": "@jupyter-widgets/controls",
       "_model_module_version": "1.5.0",
       "_model_name": "DescriptionStyleModel",
       "_view_count": null,
       "_view_module": "@jupyter-widgets/base",
       "_view_module_version": "1.2.0",
       "_view_name": "StyleView",
       "description_width": ""
      }
     },
     "c81b12e0088f4d01bc8e1968924fc745": {
      "model_module": "@jupyter-widgets/base",
      "model_module_version": "1.2.0",
      "model_name": "LayoutModel",
      "state": {
       "_model_module": "@jupyter-widgets/base",
       "_model_module_version": "1.2.0",
       "_model_name": "LayoutModel",
       "_view_count": null,
       "_view_module": "@jupyter-widgets/base",
       "_view_module_version": "1.2.0",
       "_view_name": "LayoutView",
       "align_content": null,
       "align_items": null,
       "align_self": null,
       "border": null,
       "bottom": null,
       "display": null,
       "flex": null,
       "flex_flow": null,
       "grid_area": null,
       "grid_auto_columns": null,
       "grid_auto_flow": null,
       "grid_auto_rows": null,
       "grid_column": null,
       "grid_gap": null,
       "grid_row": null,
       "grid_template_areas": null,
       "grid_template_columns": null,
       "grid_template_rows": null,
       "height": null,
       "justify_content": null,
       "justify_items": null,
       "left": null,
       "margin": null,
       "max_height": null,
       "max_width": null,
       "min_height": null,
       "min_width": null,
       "object_fit": null,
       "object_position": null,
       "order": null,
       "overflow": null,
       "overflow_x": null,
       "overflow_y": null,
       "padding": null,
       "right": null,
       "top": null,
       "visibility": null,
       "width": null
      }
     },
     "cfb87cf44d354dbfaf61a77dbdca1b48": {
      "model_module": "@jupyter-widgets/base",
      "model_module_version": "1.2.0",
      "model_name": "LayoutModel",
      "state": {
       "_model_module": "@jupyter-widgets/base",
       "_model_module_version": "1.2.0",
       "_model_name": "LayoutModel",
       "_view_count": null,
       "_view_module": "@jupyter-widgets/base",
       "_view_module_version": "1.2.0",
       "_view_name": "LayoutView",
       "align_content": null,
       "align_items": null,
       "align_self": null,
       "border": null,
       "bottom": null,
       "display": null,
       "flex": null,
       "flex_flow": null,
       "grid_area": null,
       "grid_auto_columns": null,
       "grid_auto_flow": null,
       "grid_auto_rows": null,
       "grid_column": null,
       "grid_gap": null,
       "grid_row": null,
       "grid_template_areas": null,
       "grid_template_columns": null,
       "grid_template_rows": null,
       "height": null,
       "justify_content": null,
       "justify_items": null,
       "left": null,
       "margin": null,
       "max_height": null,
       "max_width": null,
       "min_height": null,
       "min_width": null,
       "object_fit": null,
       "object_position": null,
       "order": null,
       "overflow": null,
       "overflow_x": null,
       "overflow_y": null,
       "padding": null,
       "right": null,
       "top": null,
       "visibility": null,
       "width": null
      }
     },
     "d7d60df0e6aa433683a6af81ccdcc154": {
      "model_module": "@jupyter-widgets/controls",
      "model_module_version": "1.5.0",
      "model_name": "HTMLModel",
      "state": {
       "_dom_classes": [],
       "_model_module": "@jupyter-widgets/controls",
       "_model_module_version": "1.5.0",
       "_model_name": "HTMLModel",
       "_view_count": null,
       "_view_module": "@jupyter-widgets/controls",
       "_view_module_version": "1.5.0",
       "_view_name": "HTMLView",
       "description": "",
       "description_tooltip": null,
       "layout": "IPY_MODEL_a496f985ca2d4221bcb4e53ef9d06246",
       "placeholder": "​",
       "style": "IPY_MODEL_c5086ccff09043eeb86886d8f5333f37",
       "value": " 93.0/93.0 [00:00&lt;00:00, 4.22kB/s]"
      }
     },
     "daaa2a3c955e4df791d4fce0f406f61f": {
      "model_module": "@jupyter-widgets/controls",
      "model_module_version": "1.5.0",
      "model_name": "HTMLModel",
      "state": {
       "_dom_classes": [],
       "_model_module": "@jupyter-widgets/controls",
       "_model_module_version": "1.5.0",
       "_model_name": "HTMLModel",
       "_view_count": null,
       "_view_module": "@jupyter-widgets/controls",
       "_view_module_version": "1.5.0",
       "_view_name": "HTMLView",
       "description": "",
       "description_tooltip": null,
       "layout": "IPY_MODEL_5c9b6b0a3bdb40e1ad308e7a6099a945",
       "placeholder": "​",
       "style": "IPY_MODEL_3bdcf8fac7c14f99b858f7d5f749fb26",
       "value": " 778/778 [00:00&lt;00:00, 32.2kB/s]"
      }
     },
     "dd539030a43944038858c13b9d01be86": {
      "model_module": "@jupyter-widgets/controls",
      "model_module_version": "1.5.0",
      "model_name": "HTMLModel",
      "state": {
       "_dom_classes": [],
       "_model_module": "@jupyter-widgets/controls",
       "_model_module_version": "1.5.0",
       "_model_name": "HTMLModel",
       "_view_count": null,
       "_view_module": "@jupyter-widgets/controls",
       "_view_module_version": "1.5.0",
       "_view_name": "HTMLView",
       "description": "",
       "description_tooltip": null,
       "layout": "IPY_MODEL_471363183e9c433bba22279fc3bbea71",
       "placeholder": "​",
       "style": "IPY_MODEL_b568cf5996674d8dbd4994f826363e32",
       "value": "Downloading (…)&quot;tf_model.h5&quot;;: 100%"
      }
     },
     "e29b7594de6340469eaf50021607634b": {
      "model_module": "@jupyter-widgets/controls",
      "model_module_version": "1.5.0",
      "model_name": "HBoxModel",
      "state": {
       "_dom_classes": [],
       "_model_module": "@jupyter-widgets/controls",
       "_model_module_version": "1.5.0",
       "_model_name": "HBoxModel",
       "_view_count": null,
       "_view_module": "@jupyter-widgets/controls",
       "_view_module_version": "1.5.0",
       "_view_name": "HBoxView",
       "box_style": "",
       "children": [
        "IPY_MODEL_53387c6bdc604f7a9481f96e2c7b4b84",
        "IPY_MODEL_edf8c41eaadc45f6b749f1f216050305",
        "IPY_MODEL_daaa2a3c955e4df791d4fce0f406f61f"
       ],
       "layout": "IPY_MODEL_5b046f6df6604bc38fa485761f3183af"
      }
     },
     "edf8c41eaadc45f6b749f1f216050305": {
      "model_module": "@jupyter-widgets/controls",
      "model_module_version": "1.5.0",
      "model_name": "FloatProgressModel",
      "state": {
       "_dom_classes": [],
       "_model_module": "@jupyter-widgets/controls",
       "_model_module_version": "1.5.0",
       "_model_name": "FloatProgressModel",
       "_view_count": null,
       "_view_module": "@jupyter-widgets/controls",
       "_view_module_version": "1.5.0",
       "_view_name": "ProgressView",
       "bar_style": "success",
       "description": "",
       "description_tooltip": null,
       "layout": "IPY_MODEL_406bc3eff5404c47a0b6e25bd2be7c37",
       "max": 778.0,
       "min": 0.0,
       "orientation": "horizontal",
       "style": "IPY_MODEL_f5799d82f478474fb7db892d4c7fc731",
       "value": 778.0
      }
     },
     "edf9a03462384e3c8472f10bfb44bd33": {
      "model_module": "@jupyter-widgets/controls",
      "model_module_version": "1.5.0",
      "model_name": "ProgressStyleModel",
      "state": {
       "_model_module": "@jupyter-widgets/controls",
       "_model_module_version": "1.5.0",
       "_model_name": "ProgressStyleModel",
       "_view_count": null,
       "_view_module": "@jupyter-widgets/base",
       "_view_module_version": "1.2.0",
       "_view_name": "StyleView",
       "bar_color": null,
       "description_width": ""
      }
     },
     "f3fc8ae8042c41918193eabca480098b": {
      "model_module": "@jupyter-widgets/base",
      "model_module_version": "1.2.0",
      "model_name": "LayoutModel",
      "state": {
       "_model_module": "@jupyter-widgets/base",
       "_model_module_version": "1.2.0",
       "_model_name": "LayoutModel",
       "_view_count": null,
       "_view_module": "@jupyter-widgets/base",
       "_view_module_version": "1.2.0",
       "_view_name": "LayoutView",
       "align_content": null,
       "align_items": null,
       "align_self": null,
       "border": null,
       "bottom": null,
       "display": null,
       "flex": null,
       "flex_flow": null,
       "grid_area": null,
       "grid_auto_columns": null,
       "grid_auto_flow": null,
       "grid_auto_rows": null,
       "grid_column": null,
       "grid_gap": null,
       "grid_row": null,
       "grid_template_areas": null,
       "grid_template_columns": null,
       "grid_template_rows": null,
       "height": null,
       "justify_content": null,
       "justify_items": null,
       "left": null,
       "margin": null,
       "max_height": null,
       "max_width": null,
       "min_height": null,
       "min_width": null,
       "object_fit": null,
       "object_position": null,
       "order": null,
       "overflow": null,
       "overflow_x": null,
       "overflow_y": null,
       "padding": null,
       "right": null,
       "top": null,
       "visibility": null,
       "width": null
      }
     },
     "f5799d82f478474fb7db892d4c7fc731": {
      "model_module": "@jupyter-widgets/controls",
      "model_module_version": "1.5.0",
      "model_name": "ProgressStyleModel",
      "state": {
       "_model_module": "@jupyter-widgets/controls",
       "_model_module_version": "1.5.0",
       "_model_name": "ProgressStyleModel",
       "_view_count": null,
       "_view_module": "@jupyter-widgets/base",
       "_view_module_version": "1.2.0",
       "_view_name": "StyleView",
       "bar_color": null,
       "description_width": ""
      }
     },
     "f8146ff08f884eea9f6bea7ca1f85d0b": {
      "model_module": "@jupyter-widgets/controls",
      "model_module_version": "1.5.0",
      "model_name": "DescriptionStyleModel",
      "state": {
       "_model_module": "@jupyter-widgets/controls",
       "_model_module_version": "1.5.0",
       "_model_name": "DescriptionStyleModel",
       "_view_count": null,
       "_view_module": "@jupyter-widgets/base",
       "_view_module_version": "1.2.0",
       "_view_name": "StyleView",
       "description_width": ""
      }
     },
     "fc679f670afe4890b858414377627a18": {
      "model_module": "@jupyter-widgets/base",
      "model_module_version": "1.2.0",
      "model_name": "LayoutModel",
      "state": {
       "_model_module": "@jupyter-widgets/base",
       "_model_module_version": "1.2.0",
       "_model_name": "LayoutModel",
       "_view_count": null,
       "_view_module": "@jupyter-widgets/base",
       "_view_module_version": "1.2.0",
       "_view_name": "LayoutView",
       "align_content": null,
       "align_items": null,
       "align_self": null,
       "border": null,
       "bottom": null,
       "display": null,
       "flex": null,
       "flex_flow": null,
       "grid_area": null,
       "grid_auto_columns": null,
       "grid_auto_flow": null,
       "grid_auto_rows": null,
       "grid_column": null,
       "grid_gap": null,
       "grid_row": null,
       "grid_template_areas": null,
       "grid_template_columns": null,
       "grid_template_rows": null,
       "height": null,
       "justify_content": null,
       "justify_items": null,
       "left": null,
       "margin": null,
       "max_height": null,
       "max_width": null,
       "min_height": null,
       "min_width": null,
       "object_fit": null,
       "object_position": null,
       "order": null,
       "overflow": null,
       "overflow_x": null,
       "overflow_y": null,
       "padding": null,
       "right": null,
       "top": null,
       "visibility": null,
       "width": null
      }
     }
    },
    "version_major": 2,
    "version_minor": 0
   }
  }
 },
 "nbformat": 4,
 "nbformat_minor": 5
}
